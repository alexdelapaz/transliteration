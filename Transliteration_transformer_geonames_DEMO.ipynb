{
  "nbformat": 4,
  "nbformat_minor": 0,
  "metadata": {
    "colab": {
      "provenance": []
    },
    "kernelspec": {
      "display_name": "Python 3",
      "language": "python",
      "name": "python3"
    },
    "language_info": {
      "codemirror_mode": {
        "name": "ipython",
        "version": 3
      },
      "file_extension": ".py",
      "mimetype": "text/x-python",
      "name": "python",
      "nbconvert_exporter": "python",
      "pygments_lexer": "ipython3",
      "version": "3.7.0"
    },
    "accelerator": "GPU",
    "widgets": {
      "application/vnd.jupyter.widget-state+json": {
        "ebb87928163a4c2e8caa0a6e71db3b37": {
          "model_module": "@jupyter-widgets/controls",
          "model_name": "HBoxModel",
          "model_module_version": "1.5.0",
          "state": {
            "_view_name": "HBoxView",
            "_dom_classes": [],
            "_model_name": "HBoxModel",
            "_view_module": "@jupyter-widgets/controls",
            "_model_module_version": "1.5.0",
            "_view_count": null,
            "_view_module_version": "1.5.0",
            "box_style": "",
            "layout": "IPY_MODEL_15a472ef7baa48e5a695a18e81d44de1",
            "_model_module": "@jupyter-widgets/controls",
            "children": [
              "IPY_MODEL_98451d4eb9e547f08bf5dd8fddae469d",
              "IPY_MODEL_09740f1a716044fa84c35dc2d55d3376",
              "IPY_MODEL_c27f0cc4599f44eaa1c0b4fc7b09c63e"
            ]
          }
        },
        "15a472ef7baa48e5a695a18e81d44de1": {
          "model_module": "@jupyter-widgets/base",
          "model_name": "LayoutModel",
          "model_module_version": "1.2.0",
          "state": {
            "_view_name": "LayoutView",
            "grid_template_rows": null,
            "right": null,
            "justify_content": null,
            "_view_module": "@jupyter-widgets/base",
            "overflow": null,
            "_model_module_version": "1.2.0",
            "_view_count": null,
            "flex_flow": null,
            "width": null,
            "min_width": null,
            "border": null,
            "align_items": null,
            "bottom": null,
            "_model_module": "@jupyter-widgets/base",
            "top": null,
            "grid_column": null,
            "overflow_y": null,
            "overflow_x": null,
            "grid_auto_flow": null,
            "grid_area": null,
            "grid_template_columns": null,
            "flex": null,
            "_model_name": "LayoutModel",
            "justify_items": null,
            "grid_row": null,
            "max_height": null,
            "align_content": null,
            "visibility": null,
            "align_self": null,
            "height": null,
            "min_height": null,
            "padding": null,
            "grid_auto_rows": null,
            "grid_gap": null,
            "max_width": null,
            "order": null,
            "_view_module_version": "1.2.0",
            "grid_template_areas": null,
            "object_position": null,
            "object_fit": null,
            "grid_auto_columns": null,
            "margin": null,
            "display": null,
            "left": null
          }
        },
        "98451d4eb9e547f08bf5dd8fddae469d": {
          "model_module": "@jupyter-widgets/controls",
          "model_name": "HTMLModel",
          "model_module_version": "1.5.0",
          "state": {
            "_view_name": "HTMLView",
            "style": "IPY_MODEL_679f7457ac8644d5962e4f178dd32ec2",
            "_dom_classes": [],
            "description": "",
            "_model_name": "HTMLModel",
            "placeholder": "​",
            "_view_module": "@jupyter-widgets/controls",
            "_model_module_version": "1.5.0",
            "value": "Downloading: ",
            "_view_count": null,
            "_view_module_version": "1.5.0",
            "description_tooltip": null,
            "_model_module": "@jupyter-widgets/controls",
            "layout": "IPY_MODEL_7cfeee9d5ef14eb9944fb763cfeef66a"
          }
        },
        "09740f1a716044fa84c35dc2d55d3376": {
          "model_module": "@jupyter-widgets/controls",
          "model_name": "FloatProgressModel",
          "model_module_version": "1.5.0",
          "state": {
            "_view_name": "ProgressView",
            "style": "IPY_MODEL_cbace6a1d5034f0190f3006bc197d8dd",
            "_dom_classes": [],
            "description": "",
            "_model_name": "FloatProgressModel",
            "bar_style": "success",
            "max": 2160,
            "_view_module": "@jupyter-widgets/controls",
            "_model_module_version": "1.5.0",
            "value": 2160,
            "_view_count": null,
            "_view_module_version": "1.5.0",
            "orientation": "horizontal",
            "min": 0,
            "description_tooltip": null,
            "_model_module": "@jupyter-widgets/controls",
            "layout": "IPY_MODEL_9b976945b2684154887bdbf3acefdc52"
          }
        },
        "c27f0cc4599f44eaa1c0b4fc7b09c63e": {
          "model_module": "@jupyter-widgets/controls",
          "model_name": "HTMLModel",
          "model_module_version": "1.5.0",
          "state": {
            "_view_name": "HTMLView",
            "style": "IPY_MODEL_bac381509c4d4baeaae4e62e278e550c",
            "_dom_classes": [],
            "description": "",
            "_model_name": "HTMLModel",
            "placeholder": "​",
            "_view_module": "@jupyter-widgets/controls",
            "_model_module_version": "1.5.0",
            "value": " 5.59k/? [00:00&lt;00:00, 65.1kB/s]",
            "_view_count": null,
            "_view_module_version": "1.5.0",
            "description_tooltip": null,
            "_model_module": "@jupyter-widgets/controls",
            "layout": "IPY_MODEL_3240795b9d5d4d8eb78c172721ed3dd4"
          }
        },
        "679f7457ac8644d5962e4f178dd32ec2": {
          "model_module": "@jupyter-widgets/controls",
          "model_name": "DescriptionStyleModel",
          "model_module_version": "1.5.0",
          "state": {
            "_view_name": "StyleView",
            "_model_name": "DescriptionStyleModel",
            "description_width": "",
            "_view_module": "@jupyter-widgets/base",
            "_model_module_version": "1.5.0",
            "_view_count": null,
            "_view_module_version": "1.2.0",
            "_model_module": "@jupyter-widgets/controls"
          }
        },
        "7cfeee9d5ef14eb9944fb763cfeef66a": {
          "model_module": "@jupyter-widgets/base",
          "model_name": "LayoutModel",
          "model_module_version": "1.2.0",
          "state": {
            "_view_name": "LayoutView",
            "grid_template_rows": null,
            "right": null,
            "justify_content": null,
            "_view_module": "@jupyter-widgets/base",
            "overflow": null,
            "_model_module_version": "1.2.0",
            "_view_count": null,
            "flex_flow": null,
            "width": null,
            "min_width": null,
            "border": null,
            "align_items": null,
            "bottom": null,
            "_model_module": "@jupyter-widgets/base",
            "top": null,
            "grid_column": null,
            "overflow_y": null,
            "overflow_x": null,
            "grid_auto_flow": null,
            "grid_area": null,
            "grid_template_columns": null,
            "flex": null,
            "_model_name": "LayoutModel",
            "justify_items": null,
            "grid_row": null,
            "max_height": null,
            "align_content": null,
            "visibility": null,
            "align_self": null,
            "height": null,
            "min_height": null,
            "padding": null,
            "grid_auto_rows": null,
            "grid_gap": null,
            "max_width": null,
            "order": null,
            "_view_module_version": "1.2.0",
            "grid_template_areas": null,
            "object_position": null,
            "object_fit": null,
            "grid_auto_columns": null,
            "margin": null,
            "display": null,
            "left": null
          }
        },
        "cbace6a1d5034f0190f3006bc197d8dd": {
          "model_module": "@jupyter-widgets/controls",
          "model_name": "ProgressStyleModel",
          "model_module_version": "1.5.0",
          "state": {
            "_view_name": "StyleView",
            "_model_name": "ProgressStyleModel",
            "description_width": "",
            "_view_module": "@jupyter-widgets/base",
            "_model_module_version": "1.5.0",
            "_view_count": null,
            "_view_module_version": "1.2.0",
            "bar_color": null,
            "_model_module": "@jupyter-widgets/controls"
          }
        },
        "9b976945b2684154887bdbf3acefdc52": {
          "model_module": "@jupyter-widgets/base",
          "model_name": "LayoutModel",
          "model_module_version": "1.2.0",
          "state": {
            "_view_name": "LayoutView",
            "grid_template_rows": null,
            "right": null,
            "justify_content": null,
            "_view_module": "@jupyter-widgets/base",
            "overflow": null,
            "_model_module_version": "1.2.0",
            "_view_count": null,
            "flex_flow": null,
            "width": null,
            "min_width": null,
            "border": null,
            "align_items": null,
            "bottom": null,
            "_model_module": "@jupyter-widgets/base",
            "top": null,
            "grid_column": null,
            "overflow_y": null,
            "overflow_x": null,
            "grid_auto_flow": null,
            "grid_area": null,
            "grid_template_columns": null,
            "flex": null,
            "_model_name": "LayoutModel",
            "justify_items": null,
            "grid_row": null,
            "max_height": null,
            "align_content": null,
            "visibility": null,
            "align_self": null,
            "height": null,
            "min_height": null,
            "padding": null,
            "grid_auto_rows": null,
            "grid_gap": null,
            "max_width": null,
            "order": null,
            "_view_module_version": "1.2.0",
            "grid_template_areas": null,
            "object_position": null,
            "object_fit": null,
            "grid_auto_columns": null,
            "margin": null,
            "display": null,
            "left": null
          }
        },
        "bac381509c4d4baeaae4e62e278e550c": {
          "model_module": "@jupyter-widgets/controls",
          "model_name": "DescriptionStyleModel",
          "model_module_version": "1.5.0",
          "state": {
            "_view_name": "StyleView",
            "_model_name": "DescriptionStyleModel",
            "description_width": "",
            "_view_module": "@jupyter-widgets/base",
            "_model_module_version": "1.5.0",
            "_view_count": null,
            "_view_module_version": "1.2.0",
            "_model_module": "@jupyter-widgets/controls"
          }
        },
        "3240795b9d5d4d8eb78c172721ed3dd4": {
          "model_module": "@jupyter-widgets/base",
          "model_name": "LayoutModel",
          "model_module_version": "1.2.0",
          "state": {
            "_view_name": "LayoutView",
            "grid_template_rows": null,
            "right": null,
            "justify_content": null,
            "_view_module": "@jupyter-widgets/base",
            "overflow": null,
            "_model_module_version": "1.2.0",
            "_view_count": null,
            "flex_flow": null,
            "width": null,
            "min_width": null,
            "border": null,
            "align_items": null,
            "bottom": null,
            "_model_module": "@jupyter-widgets/base",
            "top": null,
            "grid_column": null,
            "overflow_y": null,
            "overflow_x": null,
            "grid_auto_flow": null,
            "grid_area": null,
            "grid_template_columns": null,
            "flex": null,
            "_model_name": "LayoutModel",
            "justify_items": null,
            "grid_row": null,
            "max_height": null,
            "align_content": null,
            "visibility": null,
            "align_self": null,
            "height": null,
            "min_height": null,
            "padding": null,
            "grid_auto_rows": null,
            "grid_gap": null,
            "max_width": null,
            "order": null,
            "_view_module_version": "1.2.0",
            "grid_template_areas": null,
            "object_position": null,
            "object_fit": null,
            "grid_auto_columns": null,
            "margin": null,
            "display": null,
            "left": null
          }
        }
      }
    }
  },
  "cells": [
    {
      "cell_type": "code",
      "metadata": {
        "colab": {
          "base_uri": "https://localhost:8080/"
        },
        "id": "tPz1DCYk2F06",
        "outputId": "7a8ecd1b-cd88-4192-f48c-3cd2e57985af"
      },
      "source": [
        "# mount colab drive\n",
        "\n",
        "from google.colab import drive\n",
        "drive.mount('/content/drive',force_remount=True)"
      ],
      "execution_count": null,
      "outputs": [
        {
          "output_type": "stream",
          "name": "stdout",
          "text": [
            "Mounted at /content/drive\n"
          ]
        }
      ]
    },
    {
      "cell_type": "code",
      "metadata": {
        "id": "QbxbJp5a2IQg"
      },
      "source": [
        "# add this notebook's folder path\n",
        "\n",
        "folder_thisNotebook = 'NGA/Foundation/Transliteration'"
      ],
      "execution_count": null,
      "outputs": []
    },
    {
      "cell_type": "code",
      "metadata": {
        "id": "mjYrXk-G2Pm3"
      },
      "source": [
        "# This notebook's folder path\n",
        "path_drive_folder_thisNotebook = 'drive/My Drive/Colab Notebooks/' + folder_thisNotebook"
      ],
      "execution_count": null,
      "outputs": []
    },
    {
      "cell_type": "code",
      "metadata": {
        "colab": {
          "base_uri": "https://localhost:8080/"
        },
        "id": "la-mFLkt2Ppa",
        "outputId": "b3c78a37-e3bb-4bf3-cbab-3f00ff72d804"
      },
      "source": [
        "print('Copy this to cd to path:\\n\\n'+path_drive_folder_thisNotebook)"
      ],
      "execution_count": null,
      "outputs": [
        {
          "output_type": "stream",
          "name": "stdout",
          "text": [
            "Copy this to cd to path:\n",
            "\n",
            "drive/My Drive/Colab Notebooks/NGA/Foundation/Transliteration\n"
          ]
        }
      ]
    },
    {
      "cell_type": "code",
      "metadata": {
        "colab": {
          "base_uri": "https://localhost:8080/"
        },
        "id": "trDhABfg2RCb",
        "outputId": "a753ebf6-e270-4eb1-ff2f-2c88006193e1"
      },
      "source": [
        "# Paste path here:\n",
        "%cd drive/My Drive/Colab Notebooks/NGA/Foundation/Transliteration"
      ],
      "execution_count": null,
      "outputs": [
        {
          "output_type": "stream",
          "name": "stdout",
          "text": [
            "/content/drive/My Drive/Colab Notebooks/NGA/Foundation/Transliteration\n"
          ]
        }
      ]
    },
    {
      "cell_type": "code",
      "metadata": {
        "id": "lOsPTAAY8OGO"
      },
      "source": [
        "import pathlib\n",
        "import random\n",
        "import string\n",
        "import re\n",
        "import numpy as np\n",
        "import tensorflow as tf\n",
        "from tensorflow import keras\n",
        "from tensorflow.keras import layers\n",
        "from tensorflow.keras.layers import TextVectorization"
      ],
      "execution_count": null,
      "outputs": []
    },
    {
      "cell_type": "code",
      "source": [
        "import pandas as pd"
      ],
      "metadata": {
        "id": "meiAOcIHtOlL"
      },
      "execution_count": null,
      "outputs": []
    },
    {
      "cell_type": "markdown",
      "source": [
        "## Load pre-processed and saved data"
      ],
      "metadata": {
        "id": "uAcPXvGd_A95"
      }
    },
    {
      "cell_type": "code",
      "source": [
        "# pandas requires latest version of openpyxl, use -U tag\n",
        "!pip install openpyxl -U"
      ],
      "metadata": {
        "colab": {
          "base_uri": "https://localhost:8080/"
        },
        "id": "bFfhaC1Sta_p",
        "outputId": "32da299c-1943-4207-f187-2315d4f8418f"
      },
      "execution_count": null,
      "outputs": [
        {
          "output_type": "stream",
          "name": "stdout",
          "text": [
            "Requirement already satisfied: openpyxl in /usr/local/lib/python3.7/dist-packages (2.5.9)\n",
            "Collecting openpyxl\n",
            "  Downloading openpyxl-3.0.9-py2.py3-none-any.whl (242 kB)\n",
            "\u001b[K     |████████████████████████████████| 242 kB 5.3 MB/s \n",
            "\u001b[?25hRequirement already satisfied: et-xmlfile in /usr/local/lib/python3.7/dist-packages (from openpyxl) (1.1.0)\n",
            "Installing collected packages: openpyxl\n",
            "  Attempting uninstall: openpyxl\n",
            "    Found existing installation: openpyxl 2.5.9\n",
            "    Uninstalling openpyxl-2.5.9:\n",
            "      Successfully uninstalled openpyxl-2.5.9\n",
            "Successfully installed openpyxl-3.0.9\n"
          ]
        }
      ]
    },
    {
      "cell_type": "markdown",
      "source": [
        "## Geonames"
      ],
      "metadata": {
        "id": "yqY4bIWaJjlx"
      }
    },
    {
      "cell_type": "code",
      "source": [
        "df_geonames = pd.read_excel('geonames.xlsx')\n",
        "df_geonames.shape"
      ],
      "metadata": {
        "colab": {
          "base_uri": "https://localhost:8080/"
        },
        "id": "fvP0L3v1_Dyc",
        "outputId": "88bb5ce4-04dc-49b2-d0a8-3ec305da8362"
      },
      "execution_count": null,
      "outputs": [
        {
          "output_type": "execute_result",
          "data": {
            "text/plain": [
              "(36917, 2)"
            ]
          },
          "metadata": {},
          "execution_count": 9
        }
      ]
    },
    {
      "cell_type": "code",
      "source": [
        "text_pairs = df_geonames.values\n",
        "text_pairs.shape"
      ],
      "metadata": {
        "colab": {
          "base_uri": "https://localhost:8080/"
        },
        "id": "Gl4uxNVa_o8L",
        "outputId": "335e8a1a-7672-456b-c445-5ab12c54cb52"
      },
      "execution_count": null,
      "outputs": [
        {
          "output_type": "execute_result",
          "data": {
            "text/plain": [
              "(36917, 2)"
            ]
          },
          "metadata": {},
          "execution_count": 10
        }
      ]
    },
    {
      "cell_type": "markdown",
      "source": [
        "##  Train"
      ],
      "metadata": {
        "id": "A5j8rilpJlCc"
      }
    },
    {
      "cell_type": "code",
      "source": [
        "df_train = pd.read_excel('split_data/train.xlsx')\n",
        "df_train.shape"
      ],
      "metadata": {
        "colab": {
          "base_uri": "https://localhost:8080/"
        },
        "id": "s5RQw7AF_HcM",
        "outputId": "805b8097-a962-4625-e601-55e049beb36b"
      },
      "execution_count": null,
      "outputs": [
        {
          "output_type": "execute_result",
          "data": {
            "text/plain": [
              "(29535, 3)"
            ]
          },
          "metadata": {},
          "execution_count": 11
        }
      ]
    },
    {
      "cell_type": "code",
      "source": [
        "df_train"
      ],
      "metadata": {
        "colab": {
          "base_uri": "https://localhost:8080/",
          "height": 423
        },
        "id": "Ex5qOqoyJOYS",
        "outputId": "6860ab27-adc0-4c21-efac-e8efdcc5cc1b"
      },
      "execution_count": null,
      "outputs": [
        {
          "output_type": "execute_result",
          "data": {
            "text/html": [
              "\n",
              "  <div id=\"df-0bc9dcbc-0d3d-42d0-8f9b-fa041389a6cf\">\n",
              "    <div class=\"colab-df-container\">\n",
              "      <div>\n",
              "<style scoped>\n",
              "    .dataframe tbody tr th:only-of-type {\n",
              "        vertical-align: middle;\n",
              "    }\n",
              "\n",
              "    .dataframe tbody tr th {\n",
              "        vertical-align: top;\n",
              "    }\n",
              "\n",
              "    .dataframe thead th {\n",
              "        text-align: right;\n",
              "    }\n",
              "</style>\n",
              "<table border=\"1\" class=\"dataframe\">\n",
              "  <thead>\n",
              "    <tr style=\"text-align: right;\">\n",
              "      <th></th>\n",
              "      <th>Unnamed: 0</th>\n",
              "      <th>Arabic</th>\n",
              "      <th>Romanized</th>\n",
              "    </tr>\n",
              "  </thead>\n",
              "  <tbody>\n",
              "    <tr>\n",
              "      <th>0</th>\n",
              "      <td>0</td>\n",
              "      <td>وادي</td>\n",
              "      <td>Wādī</td>\n",
              "    </tr>\n",
              "    <tr>\n",
              "      <th>1</th>\n",
              "      <td>1</td>\n",
              "      <td>خربة</td>\n",
              "      <td>Khirbat</td>\n",
              "    </tr>\n",
              "    <tr>\n",
              "      <th>2</th>\n",
              "      <td>2</td>\n",
              "      <td>قرية</td>\n",
              "      <td>Qaryah</td>\n",
              "    </tr>\n",
              "    <tr>\n",
              "      <th>3</th>\n",
              "      <td>3</td>\n",
              "      <td>مدرسة</td>\n",
              "      <td>Madrasah</td>\n",
              "    </tr>\n",
              "    <tr>\n",
              "      <th>4</th>\n",
              "      <td>4</td>\n",
              "      <td>وادي</td>\n",
              "      <td>Wādī</td>\n",
              "    </tr>\n",
              "    <tr>\n",
              "      <th>...</th>\n",
              "      <td>...</td>\n",
              "      <td>...</td>\n",
              "      <td>...</td>\n",
              "    </tr>\n",
              "    <tr>\n",
              "      <th>29530</th>\n",
              "      <td>29530</td>\n",
              "      <td>وحدة صحية عيان</td>\n",
              "      <td>Waḩdah Şiḩḩīyah ‘Ayyān</td>\n",
              "    </tr>\n",
              "    <tr>\n",
              "      <th>29531</th>\n",
              "      <td>29531</td>\n",
              "      <td>قبة الشيخ زيات</td>\n",
              "      <td>Qubbat ash Shaykh Zayyāt</td>\n",
              "    </tr>\n",
              "    <tr>\n",
              "      <th>29532</th>\n",
              "      <td>29532</td>\n",
              "      <td>ضهور النعمية</td>\n",
              "      <td>Ḑuhūr an Nu‘mīyah</td>\n",
              "    </tr>\n",
              "    <tr>\n",
              "      <th>29533</th>\n",
              "      <td>29533</td>\n",
              "      <td>المركز الصحي السلخانة</td>\n",
              "      <td>Al Markaz aş Şiḩḩīy as Sulkhānah</td>\n",
              "    </tr>\n",
              "    <tr>\n",
              "      <th>29534</th>\n",
              "      <td>29534</td>\n",
              "      <td>العكشــة</td>\n",
              "      <td>Al ‘Akishah</td>\n",
              "    </tr>\n",
              "  </tbody>\n",
              "</table>\n",
              "<p>29535 rows × 3 columns</p>\n",
              "</div>\n",
              "      <button class=\"colab-df-convert\" onclick=\"convertToInteractive('df-0bc9dcbc-0d3d-42d0-8f9b-fa041389a6cf')\"\n",
              "              title=\"Convert this dataframe to an interactive table.\"\n",
              "              style=\"display:none;\">\n",
              "        \n",
              "  <svg xmlns=\"http://www.w3.org/2000/svg\" height=\"24px\"viewBox=\"0 0 24 24\"\n",
              "       width=\"24px\">\n",
              "    <path d=\"M0 0h24v24H0V0z\" fill=\"none\"/>\n",
              "    <path d=\"M18.56 5.44l.94 2.06.94-2.06 2.06-.94-2.06-.94-.94-2.06-.94 2.06-2.06.94zm-11 1L8.5 8.5l.94-2.06 2.06-.94-2.06-.94L8.5 2.5l-.94 2.06-2.06.94zm10 10l.94 2.06.94-2.06 2.06-.94-2.06-.94-.94-2.06-.94 2.06-2.06.94z\"/><path d=\"M17.41 7.96l-1.37-1.37c-.4-.4-.92-.59-1.43-.59-.52 0-1.04.2-1.43.59L10.3 9.45l-7.72 7.72c-.78.78-.78 2.05 0 2.83L4 21.41c.39.39.9.59 1.41.59.51 0 1.02-.2 1.41-.59l7.78-7.78 2.81-2.81c.8-.78.8-2.07 0-2.86zM5.41 20L4 18.59l7.72-7.72 1.47 1.35L5.41 20z\"/>\n",
              "  </svg>\n",
              "      </button>\n",
              "      \n",
              "  <style>\n",
              "    .colab-df-container {\n",
              "      display:flex;\n",
              "      flex-wrap:wrap;\n",
              "      gap: 12px;\n",
              "    }\n",
              "\n",
              "    .colab-df-convert {\n",
              "      background-color: #E8F0FE;\n",
              "      border: none;\n",
              "      border-radius: 50%;\n",
              "      cursor: pointer;\n",
              "      display: none;\n",
              "      fill: #1967D2;\n",
              "      height: 32px;\n",
              "      padding: 0 0 0 0;\n",
              "      width: 32px;\n",
              "    }\n",
              "\n",
              "    .colab-df-convert:hover {\n",
              "      background-color: #E2EBFA;\n",
              "      box-shadow: 0px 1px 2px rgba(60, 64, 67, 0.3), 0px 1px 3px 1px rgba(60, 64, 67, 0.15);\n",
              "      fill: #174EA6;\n",
              "    }\n",
              "\n",
              "    [theme=dark] .colab-df-convert {\n",
              "      background-color: #3B4455;\n",
              "      fill: #D2E3FC;\n",
              "    }\n",
              "\n",
              "    [theme=dark] .colab-df-convert:hover {\n",
              "      background-color: #434B5C;\n",
              "      box-shadow: 0px 1px 3px 1px rgba(0, 0, 0, 0.15);\n",
              "      filter: drop-shadow(0px 1px 2px rgba(0, 0, 0, 0.3));\n",
              "      fill: #FFFFFF;\n",
              "    }\n",
              "  </style>\n",
              "\n",
              "      <script>\n",
              "        const buttonEl =\n",
              "          document.querySelector('#df-0bc9dcbc-0d3d-42d0-8f9b-fa041389a6cf button.colab-df-convert');\n",
              "        buttonEl.style.display =\n",
              "          google.colab.kernel.accessAllowed ? 'block' : 'none';\n",
              "\n",
              "        async function convertToInteractive(key) {\n",
              "          const element = document.querySelector('#df-0bc9dcbc-0d3d-42d0-8f9b-fa041389a6cf');\n",
              "          const dataTable =\n",
              "            await google.colab.kernel.invokeFunction('convertToInteractive',\n",
              "                                                     [key], {});\n",
              "          if (!dataTable) return;\n",
              "\n",
              "          const docLinkHtml = 'Like what you see? Visit the ' +\n",
              "            '<a target=\"_blank\" href=https://colab.research.google.com/notebooks/data_table.ipynb>data table notebook</a>'\n",
              "            + ' to learn more about interactive tables.';\n",
              "          element.innerHTML = '';\n",
              "          dataTable['output_type'] = 'display_data';\n",
              "          await google.colab.output.renderOutput(dataTable, element);\n",
              "          const docLink = document.createElement('div');\n",
              "          docLink.innerHTML = docLinkHtml;\n",
              "          element.appendChild(docLink);\n",
              "        }\n",
              "      </script>\n",
              "    </div>\n",
              "  </div>\n",
              "  "
            ],
            "text/plain": [
              "       Unnamed: 0                 Arabic                         Romanized\n",
              "0               0                   وادي                              Wādī\n",
              "1               1                   خربة                           Khirbat\n",
              "2               2                   قرية                            Qaryah\n",
              "3               3                  مدرسة                          Madrasah\n",
              "4               4                   وادي                              Wādī\n",
              "...           ...                    ...                               ...\n",
              "29530       29530         وحدة صحية عيان            Waḩdah Şiḩḩīyah ‘Ayyān\n",
              "29531       29531         قبة الشيخ زيات          Qubbat ash Shaykh Zayyāt\n",
              "29532       29532           ضهور النعمية                 Ḑuhūr an Nu‘mīyah\n",
              "29533       29533  المركز الصحي السلخانة  Al Markaz aş Şiḩḩīy as Sulkhānah\n",
              "29534       29534               العكشــة                       Al ‘Akishah\n",
              "\n",
              "[29535 rows x 3 columns]"
            ]
          },
          "metadata": {},
          "execution_count": 12
        }
      ]
    },
    {
      "cell_type": "code",
      "source": [
        "train_pairs = []\n",
        "source_lang = df_train['Arabic']\n",
        "target_lang = df_train['Romanized']\n",
        "\n",
        "for count in range(df_train['Arabic'].shape[0]):\n",
        "\n",
        "  if isinstance(source_lang[count], str) and isinstance(target_lang[count], str):\n",
        "      \n",
        "\n",
        "    source = source_lang[count]\n",
        "    #source_lang = source_lang.replace(\"\\n\", \"\")\n",
        "    #target_lang = target_lang.replace(\"\\n\", \"\")\n",
        "    target = \"[\" + target_lang[count] + \"]\"\n",
        "\n",
        "    train_pairs.append((source,target))"
      ],
      "metadata": {
        "id": "JKFHI7P-Insb"
      },
      "execution_count": null,
      "outputs": []
    },
    {
      "cell_type": "code",
      "source": [
        "print(train_pairs[0])"
      ],
      "metadata": {
        "colab": {
          "base_uri": "https://localhost:8080/"
        },
        "id": "9aTOuWZXJ_vh",
        "outputId": "23509f6a-feda-44d1-8218-f77cc1ad8c43"
      },
      "execution_count": null,
      "outputs": [
        {
          "output_type": "stream",
          "name": "stdout",
          "text": [
            "('وادي', '[Wādī]')\n"
          ]
        }
      ]
    },
    {
      "cell_type": "markdown",
      "source": [
        "## Validation"
      ],
      "metadata": {
        "id": "u7jY2GdWJtdv"
      }
    },
    {
      "cell_type": "code",
      "source": [
        "df_validation = pd.read_excel('split_data/validation.xlsx')\n",
        "df_validation.shape"
      ],
      "metadata": {
        "colab": {
          "base_uri": "https://localhost:8080/"
        },
        "id": "KmoIVKep_Hfy",
        "outputId": "51b724ee-c3de-44c7-d078-9d40fecf4a50"
      },
      "execution_count": null,
      "outputs": [
        {
          "output_type": "execute_result",
          "data": {
            "text/plain": [
              "(3691, 3)"
            ]
          },
          "metadata": {},
          "execution_count": 15
        }
      ]
    },
    {
      "cell_type": "code",
      "source": [
        "df_validation"
      ],
      "metadata": {
        "colab": {
          "base_uri": "https://localhost:8080/",
          "height": 423
        },
        "outputId": "73e186ef-095f-4f80-fbc1-7d0f74eddadd",
        "id": "mjcmjSi1_6lz"
      },
      "execution_count": null,
      "outputs": [
        {
          "output_type": "execute_result",
          "data": {
            "text/html": [
              "\n",
              "  <div id=\"df-5cc6c6a0-1425-4979-b8e5-a52baf2fef7e\">\n",
              "    <div class=\"colab-df-container\">\n",
              "      <div>\n",
              "<style scoped>\n",
              "    .dataframe tbody tr th:only-of-type {\n",
              "        vertical-align: middle;\n",
              "    }\n",
              "\n",
              "    .dataframe tbody tr th {\n",
              "        vertical-align: top;\n",
              "    }\n",
              "\n",
              "    .dataframe thead th {\n",
              "        text-align: right;\n",
              "    }\n",
              "</style>\n",
              "<table border=\"1\" class=\"dataframe\">\n",
              "  <thead>\n",
              "    <tr style=\"text-align: right;\">\n",
              "      <th></th>\n",
              "      <th>Unnamed: 0</th>\n",
              "      <th>Arabic</th>\n",
              "      <th>Romanized</th>\n",
              "    </tr>\n",
              "  </thead>\n",
              "  <tbody>\n",
              "    <tr>\n",
              "      <th>0</th>\n",
              "      <td>0</td>\n",
              "      <td>المفرح الأشـم</td>\n",
              "      <td>Al Mafraḩ al Asham</td>\n",
              "    </tr>\n",
              "    <tr>\n",
              "      <th>1</th>\n",
              "      <td>1</td>\n",
              "      <td>تل مراغة</td>\n",
              "      <td>Tall Marāghah</td>\n",
              "    </tr>\n",
              "    <tr>\n",
              "      <th>2</th>\n",
              "      <td>2</td>\n",
              "      <td>مالحة صغيرة</td>\n",
              "      <td>Māliḩah Şaghīrah</td>\n",
              "    </tr>\n",
              "    <tr>\n",
              "      <th>3</th>\n",
              "      <td>3</td>\n",
              "      <td>العبرونيات</td>\n",
              "      <td>Al ‘Abrūnīyāt</td>\n",
              "    </tr>\n",
              "    <tr>\n",
              "      <th>4</th>\n",
              "      <td>4</td>\n",
              "      <td>مسادة</td>\n",
              "      <td>Masādah</td>\n",
              "    </tr>\n",
              "    <tr>\n",
              "      <th>...</th>\n",
              "      <td>...</td>\n",
              "      <td>...</td>\n",
              "      <td>...</td>\n",
              "    </tr>\n",
              "    <tr>\n",
              "      <th>3686</th>\n",
              "      <td>3686</td>\n",
              "      <td>خربة حارة بيت جريفة</td>\n",
              "      <td>Khirbat Ḩārat Bayt Jurayfah</td>\n",
              "    </tr>\n",
              "    <tr>\n",
              "      <th>3687</th>\n",
              "      <td>3687</td>\n",
              "      <td>وادي النوم</td>\n",
              "      <td>Wādī an Nawm</td>\n",
              "    </tr>\n",
              "    <tr>\n",
              "      <th>3688</th>\n",
              "      <td>3688</td>\n",
              "      <td>غارة السوق</td>\n",
              "      <td>Ghārat as Sūq</td>\n",
              "    </tr>\n",
              "    <tr>\n",
              "      <th>3689</th>\n",
              "      <td>3689</td>\n",
              "      <td>التوافيق القديمة</td>\n",
              "      <td>At Tawāfīq al Qadīmah</td>\n",
              "    </tr>\n",
              "    <tr>\n",
              "      <th>3690</th>\n",
              "      <td>3690</td>\n",
              "      <td>تل بركيل بوز</td>\n",
              "      <td>Tall Birkīl Bawz</td>\n",
              "    </tr>\n",
              "  </tbody>\n",
              "</table>\n",
              "<p>3691 rows × 3 columns</p>\n",
              "</div>\n",
              "      <button class=\"colab-df-convert\" onclick=\"convertToInteractive('df-5cc6c6a0-1425-4979-b8e5-a52baf2fef7e')\"\n",
              "              title=\"Convert this dataframe to an interactive table.\"\n",
              "              style=\"display:none;\">\n",
              "        \n",
              "  <svg xmlns=\"http://www.w3.org/2000/svg\" height=\"24px\"viewBox=\"0 0 24 24\"\n",
              "       width=\"24px\">\n",
              "    <path d=\"M0 0h24v24H0V0z\" fill=\"none\"/>\n",
              "    <path d=\"M18.56 5.44l.94 2.06.94-2.06 2.06-.94-2.06-.94-.94-2.06-.94 2.06-2.06.94zm-11 1L8.5 8.5l.94-2.06 2.06-.94-2.06-.94L8.5 2.5l-.94 2.06-2.06.94zm10 10l.94 2.06.94-2.06 2.06-.94-2.06-.94-.94-2.06-.94 2.06-2.06.94z\"/><path d=\"M17.41 7.96l-1.37-1.37c-.4-.4-.92-.59-1.43-.59-.52 0-1.04.2-1.43.59L10.3 9.45l-7.72 7.72c-.78.78-.78 2.05 0 2.83L4 21.41c.39.39.9.59 1.41.59.51 0 1.02-.2 1.41-.59l7.78-7.78 2.81-2.81c.8-.78.8-2.07 0-2.86zM5.41 20L4 18.59l7.72-7.72 1.47 1.35L5.41 20z\"/>\n",
              "  </svg>\n",
              "      </button>\n",
              "      \n",
              "  <style>\n",
              "    .colab-df-container {\n",
              "      display:flex;\n",
              "      flex-wrap:wrap;\n",
              "      gap: 12px;\n",
              "    }\n",
              "\n",
              "    .colab-df-convert {\n",
              "      background-color: #E8F0FE;\n",
              "      border: none;\n",
              "      border-radius: 50%;\n",
              "      cursor: pointer;\n",
              "      display: none;\n",
              "      fill: #1967D2;\n",
              "      height: 32px;\n",
              "      padding: 0 0 0 0;\n",
              "      width: 32px;\n",
              "    }\n",
              "\n",
              "    .colab-df-convert:hover {\n",
              "      background-color: #E2EBFA;\n",
              "      box-shadow: 0px 1px 2px rgba(60, 64, 67, 0.3), 0px 1px 3px 1px rgba(60, 64, 67, 0.15);\n",
              "      fill: #174EA6;\n",
              "    }\n",
              "\n",
              "    [theme=dark] .colab-df-convert {\n",
              "      background-color: #3B4455;\n",
              "      fill: #D2E3FC;\n",
              "    }\n",
              "\n",
              "    [theme=dark] .colab-df-convert:hover {\n",
              "      background-color: #434B5C;\n",
              "      box-shadow: 0px 1px 3px 1px rgba(0, 0, 0, 0.15);\n",
              "      filter: drop-shadow(0px 1px 2px rgba(0, 0, 0, 0.3));\n",
              "      fill: #FFFFFF;\n",
              "    }\n",
              "  </style>\n",
              "\n",
              "      <script>\n",
              "        const buttonEl =\n",
              "          document.querySelector('#df-5cc6c6a0-1425-4979-b8e5-a52baf2fef7e button.colab-df-convert');\n",
              "        buttonEl.style.display =\n",
              "          google.colab.kernel.accessAllowed ? 'block' : 'none';\n",
              "\n",
              "        async function convertToInteractive(key) {\n",
              "          const element = document.querySelector('#df-5cc6c6a0-1425-4979-b8e5-a52baf2fef7e');\n",
              "          const dataTable =\n",
              "            await google.colab.kernel.invokeFunction('convertToInteractive',\n",
              "                                                     [key], {});\n",
              "          if (!dataTable) return;\n",
              "\n",
              "          const docLinkHtml = 'Like what you see? Visit the ' +\n",
              "            '<a target=\"_blank\" href=https://colab.research.google.com/notebooks/data_table.ipynb>data table notebook</a>'\n",
              "            + ' to learn more about interactive tables.';\n",
              "          element.innerHTML = '';\n",
              "          dataTable['output_type'] = 'display_data';\n",
              "          await google.colab.output.renderOutput(dataTable, element);\n",
              "          const docLink = document.createElement('div');\n",
              "          docLink.innerHTML = docLinkHtml;\n",
              "          element.appendChild(docLink);\n",
              "        }\n",
              "      </script>\n",
              "    </div>\n",
              "  </div>\n",
              "  "
            ],
            "text/plain": [
              "      Unnamed: 0               Arabic                    Romanized\n",
              "0              0        المفرح الأشـم           Al Mafraḩ al Asham\n",
              "1              1             تل مراغة                Tall Marāghah\n",
              "2              2          مالحة صغيرة             Māliḩah Şaghīrah\n",
              "3              3           العبرونيات                Al ‘Abrūnīyāt\n",
              "4              4                مسادة                      Masādah\n",
              "...          ...                  ...                          ...\n",
              "3686        3686  خربة حارة بيت جريفة  Khirbat Ḩārat Bayt Jurayfah\n",
              "3687        3687           وادي النوم                 Wādī an Nawm\n",
              "3688        3688           غارة السوق                Ghārat as Sūq\n",
              "3689        3689     التوافيق القديمة        At Tawāfīq al Qadīmah\n",
              "3690        3690         تل بركيل بوز             Tall Birkīl Bawz\n",
              "\n",
              "[3691 rows x 3 columns]"
            ]
          },
          "metadata": {},
          "execution_count": 16
        }
      ]
    },
    {
      "cell_type": "code",
      "source": [
        "val_pairs = []\n",
        "source_lang = df_validation['Arabic']\n",
        "target_lang = df_validation['Romanized']\n",
        "\n",
        "for count in range(df_validation['Arabic'].shape[0]):\n",
        "\n",
        "  if isinstance(source_lang[count], str) and isinstance(target_lang[count], str):\n",
        "      \n",
        "\n",
        "    source = source_lang[count]\n",
        "    #source_lang = source_lang.replace(\"\\n\", \"\")\n",
        "    #target_lang = target_lang.replace(\"\\n\", \"\")\n",
        "    target = \"[\" + target_lang[count] + \"]\"\n",
        "\n",
        "    val_pairs.append((source,target))"
      ],
      "metadata": {
        "id": "21GHI3iMLxoV"
      },
      "execution_count": null,
      "outputs": []
    },
    {
      "cell_type": "code",
      "source": [
        "print(val_pairs[0])"
      ],
      "metadata": {
        "colab": {
          "base_uri": "https://localhost:8080/"
        },
        "outputId": "6ee86bef-4d88-4007-b3e3-257d24e7f982",
        "id": "i0N4wvx5LxoW"
      },
      "execution_count": null,
      "outputs": [
        {
          "output_type": "stream",
          "name": "stdout",
          "text": [
            "('المفرح الأشـم', '[Al Mafraḩ al Asham]')\n"
          ]
        }
      ]
    },
    {
      "cell_type": "markdown",
      "source": [
        "## Test"
      ],
      "metadata": {
        "id": "pH0UzIFCJvKR"
      }
    },
    {
      "cell_type": "code",
      "source": [
        "df_test = pd.read_excel('split_data/test.xlsx')\n",
        "df_test.shape"
      ],
      "metadata": {
        "colab": {
          "base_uri": "https://localhost:8080/"
        },
        "id": "LAdW3t7N_HuV",
        "outputId": "dab2fc2a-e461-4d21-f23f-28adfff966f1"
      },
      "execution_count": null,
      "outputs": [
        {
          "output_type": "execute_result",
          "data": {
            "text/plain": [
              "(3691, 3)"
            ]
          },
          "metadata": {},
          "execution_count": 20
        }
      ]
    },
    {
      "cell_type": "code",
      "source": [
        "df_test"
      ],
      "metadata": {
        "colab": {
          "base_uri": "https://localhost:8080/",
          "height": 423
        },
        "id": "S3bmoAChAL7D",
        "outputId": "6cb45ca0-1883-4123-be50-98e8d626edfd"
      },
      "execution_count": null,
      "outputs": [
        {
          "output_type": "execute_result",
          "data": {
            "text/html": [
              "\n",
              "  <div id=\"df-5a7e5080-2fa0-4bb9-9adc-7e4c19c38f9c\">\n",
              "    <div class=\"colab-df-container\">\n",
              "      <div>\n",
              "<style scoped>\n",
              "    .dataframe tbody tr th:only-of-type {\n",
              "        vertical-align: middle;\n",
              "    }\n",
              "\n",
              "    .dataframe tbody tr th {\n",
              "        vertical-align: top;\n",
              "    }\n",
              "\n",
              "    .dataframe thead th {\n",
              "        text-align: right;\n",
              "    }\n",
              "</style>\n",
              "<table border=\"1\" class=\"dataframe\">\n",
              "  <thead>\n",
              "    <tr style=\"text-align: right;\">\n",
              "      <th></th>\n",
              "      <th>Unnamed: 0</th>\n",
              "      <th>Arabic</th>\n",
              "      <th>Romanized</th>\n",
              "    </tr>\n",
              "  </thead>\n",
              "  <tbody>\n",
              "    <tr>\n",
              "      <th>0</th>\n",
              "      <td>0</td>\n",
              "      <td>تل شريع</td>\n",
              "      <td>Tall Sharī‘</td>\n",
              "    </tr>\n",
              "    <tr>\n",
              "      <th>1</th>\n",
              "      <td>1</td>\n",
              "      <td>وادي الشيخ بارخ</td>\n",
              "      <td>Wādī ash Shaykh Bārikh</td>\n",
              "    </tr>\n",
              "    <tr>\n",
              "      <th>2</th>\n",
              "      <td>2</td>\n",
              "      <td>وادي بريبج</td>\n",
              "      <td>Wādī Buraybij</td>\n",
              "    </tr>\n",
              "    <tr>\n",
              "      <th>3</th>\n",
              "      <td>3</td>\n",
              "      <td>خربة عين سلوغي</td>\n",
              "      <td>Khirbat ‘Ayn Sallūghī</td>\n",
              "    </tr>\n",
              "    <tr>\n",
              "      <th>4</th>\n",
              "      <td>4</td>\n",
              "      <td>ذراع قياش</td>\n",
              "      <td>Dhirā‘ Qiyāsh</td>\n",
              "    </tr>\n",
              "    <tr>\n",
              "      <th>...</th>\n",
              "      <td>...</td>\n",
              "      <td>...</td>\n",
              "      <td>...</td>\n",
              "    </tr>\n",
              "    <tr>\n",
              "      <th>3686</th>\n",
              "      <td>3686</td>\n",
              "      <td>حبية</td>\n",
              "      <td>Ḩabīyah</td>\n",
              "    </tr>\n",
              "    <tr>\n",
              "      <th>3687</th>\n",
              "      <td>3687</td>\n",
              "      <td>خربة سني</td>\n",
              "      <td>Khirbat Sunnī</td>\n",
              "    </tr>\n",
              "    <tr>\n",
              "      <th>3688</th>\n",
              "      <td>3688</td>\n",
              "      <td>السبكة</td>\n",
              "      <td>As Sabakah</td>\n",
              "    </tr>\n",
              "    <tr>\n",
              "      <th>3689</th>\n",
              "      <td>3689</td>\n",
              "      <td>بلاد بن عوض</td>\n",
              "      <td>Bilād Bin ‘Awaḑ</td>\n",
              "    </tr>\n",
              "    <tr>\n",
              "      <th>3690</th>\n",
              "      <td>3690</td>\n",
              "      <td>القدور</td>\n",
              "      <td>Al Qudūr</td>\n",
              "    </tr>\n",
              "  </tbody>\n",
              "</table>\n",
              "<p>3691 rows × 3 columns</p>\n",
              "</div>\n",
              "      <button class=\"colab-df-convert\" onclick=\"convertToInteractive('df-5a7e5080-2fa0-4bb9-9adc-7e4c19c38f9c')\"\n",
              "              title=\"Convert this dataframe to an interactive table.\"\n",
              "              style=\"display:none;\">\n",
              "        \n",
              "  <svg xmlns=\"http://www.w3.org/2000/svg\" height=\"24px\"viewBox=\"0 0 24 24\"\n",
              "       width=\"24px\">\n",
              "    <path d=\"M0 0h24v24H0V0z\" fill=\"none\"/>\n",
              "    <path d=\"M18.56 5.44l.94 2.06.94-2.06 2.06-.94-2.06-.94-.94-2.06-.94 2.06-2.06.94zm-11 1L8.5 8.5l.94-2.06 2.06-.94-2.06-.94L8.5 2.5l-.94 2.06-2.06.94zm10 10l.94 2.06.94-2.06 2.06-.94-2.06-.94-.94-2.06-.94 2.06-2.06.94z\"/><path d=\"M17.41 7.96l-1.37-1.37c-.4-.4-.92-.59-1.43-.59-.52 0-1.04.2-1.43.59L10.3 9.45l-7.72 7.72c-.78.78-.78 2.05 0 2.83L4 21.41c.39.39.9.59 1.41.59.51 0 1.02-.2 1.41-.59l7.78-7.78 2.81-2.81c.8-.78.8-2.07 0-2.86zM5.41 20L4 18.59l7.72-7.72 1.47 1.35L5.41 20z\"/>\n",
              "  </svg>\n",
              "      </button>\n",
              "      \n",
              "  <style>\n",
              "    .colab-df-container {\n",
              "      display:flex;\n",
              "      flex-wrap:wrap;\n",
              "      gap: 12px;\n",
              "    }\n",
              "\n",
              "    .colab-df-convert {\n",
              "      background-color: #E8F0FE;\n",
              "      border: none;\n",
              "      border-radius: 50%;\n",
              "      cursor: pointer;\n",
              "      display: none;\n",
              "      fill: #1967D2;\n",
              "      height: 32px;\n",
              "      padding: 0 0 0 0;\n",
              "      width: 32px;\n",
              "    }\n",
              "\n",
              "    .colab-df-convert:hover {\n",
              "      background-color: #E2EBFA;\n",
              "      box-shadow: 0px 1px 2px rgba(60, 64, 67, 0.3), 0px 1px 3px 1px rgba(60, 64, 67, 0.15);\n",
              "      fill: #174EA6;\n",
              "    }\n",
              "\n",
              "    [theme=dark] .colab-df-convert {\n",
              "      background-color: #3B4455;\n",
              "      fill: #D2E3FC;\n",
              "    }\n",
              "\n",
              "    [theme=dark] .colab-df-convert:hover {\n",
              "      background-color: #434B5C;\n",
              "      box-shadow: 0px 1px 3px 1px rgba(0, 0, 0, 0.15);\n",
              "      filter: drop-shadow(0px 1px 2px rgba(0, 0, 0, 0.3));\n",
              "      fill: #FFFFFF;\n",
              "    }\n",
              "  </style>\n",
              "\n",
              "      <script>\n",
              "        const buttonEl =\n",
              "          document.querySelector('#df-5a7e5080-2fa0-4bb9-9adc-7e4c19c38f9c button.colab-df-convert');\n",
              "        buttonEl.style.display =\n",
              "          google.colab.kernel.accessAllowed ? 'block' : 'none';\n",
              "\n",
              "        async function convertToInteractive(key) {\n",
              "          const element = document.querySelector('#df-5a7e5080-2fa0-4bb9-9adc-7e4c19c38f9c');\n",
              "          const dataTable =\n",
              "            await google.colab.kernel.invokeFunction('convertToInteractive',\n",
              "                                                     [key], {});\n",
              "          if (!dataTable) return;\n",
              "\n",
              "          const docLinkHtml = 'Like what you see? Visit the ' +\n",
              "            '<a target=\"_blank\" href=https://colab.research.google.com/notebooks/data_table.ipynb>data table notebook</a>'\n",
              "            + ' to learn more about interactive tables.';\n",
              "          element.innerHTML = '';\n",
              "          dataTable['output_type'] = 'display_data';\n",
              "          await google.colab.output.renderOutput(dataTable, element);\n",
              "          const docLink = document.createElement('div');\n",
              "          docLink.innerHTML = docLinkHtml;\n",
              "          element.appendChild(docLink);\n",
              "        }\n",
              "      </script>\n",
              "    </div>\n",
              "  </div>\n",
              "  "
            ],
            "text/plain": [
              "      Unnamed: 0           Arabic               Romanized\n",
              "0              0          تل شريع             Tall Sharī‘\n",
              "1              1  وادي الشيخ بارخ  Wādī ash Shaykh Bārikh\n",
              "2              2       وادي بريبج           Wādī Buraybij\n",
              "3              3   خربة عين سلوغي   Khirbat ‘Ayn Sallūghī\n",
              "4              4        ذراع قياش           Dhirā‘ Qiyāsh\n",
              "...          ...              ...                     ...\n",
              "3686        3686             حبية                 Ḩabīyah\n",
              "3687        3687         خربة سني           Khirbat Sunnī\n",
              "3688        3688           السبكة              As Sabakah\n",
              "3689        3689      بلاد بن عوض         Bilād Bin ‘Awaḑ\n",
              "3690        3690           القدور                Al Qudūr\n",
              "\n",
              "[3691 rows x 3 columns]"
            ]
          },
          "metadata": {},
          "execution_count": 21
        }
      ]
    },
    {
      "cell_type": "code",
      "source": [
        "test_pairs = []\n",
        "source_lang = df_test['Arabic']\n",
        "target_lang = df_test['Romanized']\n",
        "\n",
        "for count in range(df_test['Arabic'].shape[0]):\n",
        "\n",
        "  if isinstance(source_lang[count], str) and isinstance(target_lang[count], str):\n",
        "      \n",
        "\n",
        "    source = source_lang[count]\n",
        "    #source_lang = source_lang.replace(\"\\n\", \"\")\n",
        "    #target_lang = target_lang.replace(\"\\n\", \"\")\n",
        "    target = \"[\" + target_lang[count] + \"]\"\n",
        "\n",
        "    test_pairs.append((source,target))"
      ],
      "metadata": {
        "id": "uNda8R9HMHY6"
      },
      "execution_count": null,
      "outputs": []
    },
    {
      "cell_type": "code",
      "source": [
        "print(test_pairs[0])"
      ],
      "metadata": {
        "colab": {
          "base_uri": "https://localhost:8080/"
        },
        "id": "9ZwBec3MMMn-",
        "outputId": "ea54b5ca-8a7d-4981-f7b6-39ba18f3fa96"
      },
      "execution_count": null,
      "outputs": [
        {
          "output_type": "stream",
          "name": "stdout",
          "text": [
            "('تل شريع', '[Tall Sharī‘]')\n"
          ]
        }
      ]
    },
    {
      "cell_type": "code",
      "source": [
        "print(f\"{len(text_pairs)} total pairs\")\n",
        "print(f\"{len(train_pairs)} training pairs\")\n",
        "print(f\"{len(val_pairs)} validation pairs\")\n",
        "print(f\"{len(test_pairs)} test pairs\")"
      ],
      "metadata": {
        "colab": {
          "base_uri": "https://localhost:8080/"
        },
        "id": "HcubmV4S-YiX",
        "outputId": "04e78d1e-4b3a-449f-a968-bd931629fd47"
      },
      "execution_count": null,
      "outputs": [
        {
          "output_type": "stream",
          "name": "stdout",
          "text": [
            "36917 total pairs\n",
            "29535 training pairs\n",
            "3691 validation pairs\n",
            "3691 test pairs\n"
          ]
        }
      ]
    },
    {
      "cell_type": "markdown",
      "source": [
        "## Keras custom word tokenization"
      ],
      "metadata": {
        "id": "9tR3Vq5pMTup"
      }
    },
    {
      "cell_type": "code",
      "metadata": {
        "id": "jA5i4d_t8c45"
      },
      "source": [
        "import re\n",
        "import string\n",
        "import tensorflow as tf\n",
        "\n",
        "def custom_split_fn(string_tensor):\n",
        "    return tf.strings.split(string_tensor, '')"
      ],
      "execution_count": null,
      "outputs": []
    },
    {
      "cell_type": "code",
      "metadata": {
        "colab": {
          "base_uri": "https://localhost:8080/"
        },
        "id": "gRiIj9S-st-t",
        "outputId": "d039ffec-e821-4277-ca73-3215b642200f"
      },
      "source": [
        "custom_split_fn(['string', 'word', 'two words']) # does not seperate by '' either"
      ],
      "execution_count": null,
      "outputs": [
        {
          "output_type": "execute_result",
          "data": {
            "text/plain": [
              "<tf.RaggedTensor [[b'string'], [b'word'], [b'two', b'words']]>"
            ]
          },
          "metadata": {},
          "execution_count": 29
        }
      ]
    },
    {
      "cell_type": "markdown",
      "metadata": {
        "id": "0o5VzctNs7SK"
      },
      "source": [
        "## split by character to tokenize words"
      ]
    },
    {
      "cell_type": "code",
      "metadata": {
        "id": "BZIZctAqJ9qP"
      },
      "source": [
        "def char_split(input_data):\n",
        "  return tf.strings.unicode_split(input_data, 'UTF-8')"
      ],
      "execution_count": null,
      "outputs": []
    },
    {
      "cell_type": "code",
      "source": [
        "char_split('two words') # does not seperate by '' either"
      ],
      "metadata": {
        "colab": {
          "base_uri": "https://localhost:8080/"
        },
        "id": "ZoQSeES1ufOW",
        "outputId": "8e8fbd5b-f131-4fe5-8f24-523feef3fe3e"
      },
      "execution_count": null,
      "outputs": [
        {
          "output_type": "execute_result",
          "data": {
            "text/plain": [
              "<tf.Tensor: shape=(9,), dtype=string, numpy=array([b't', b'w', b'o', b' ', b'w', b'o', b'r', b'd', b's'], dtype=object)>"
            ]
          },
          "metadata": {},
          "execution_count": 26
        }
      ]
    },
    {
      "cell_type": "code",
      "source": [
        "' ' in string.punctuation"
      ],
      "metadata": {
        "colab": {
          "base_uri": "https://localhost:8080/"
        },
        "id": "Kjew6cFIDr7_",
        "outputId": "d9f9cf15-f51c-4c2f-ebd8-361c357620a6"
      },
      "execution_count": null,
      "outputs": [
        {
          "output_type": "execute_result",
          "data": {
            "text/plain": [
              "False"
            ]
          },
          "metadata": {},
          "execution_count": 28
        }
      ]
    },
    {
      "cell_type": "code",
      "source": [
        "string.punctuation"
      ],
      "metadata": {
        "colab": {
          "base_uri": "https://localhost:8080/",
          "height": 35
        },
        "id": "zuwGf_-MEn3r",
        "outputId": "da2d413e-028b-42c3-f309-6d7796af3f08"
      },
      "execution_count": null,
      "outputs": [
        {
          "output_type": "execute_result",
          "data": {
            "application/vnd.google.colaboratory.intrinsic+json": {
              "type": "string"
            },
            "text/plain": [
              "'!\"#$%&\\'()*+,-./:;<=>?@[\\\\]^_`{|}~'"
            ]
          },
          "metadata": {},
          "execution_count": 37
        }
      ]
    },
    {
      "cell_type": "code",
      "metadata": {
        "id": "v4Jstwvv8OGT"
      },
      "source": [
        "strip_chars = string.punctuation\n",
        "strip_chars = strip_chars.replace(\"[\", \"\")\n",
        "strip_chars = strip_chars.replace(\"]\", \"\")\n",
        "\n",
        "vocab_size = 100\n",
        "sequence_length = 128 # max characters of phrase\n",
        "batch_size = 64\n",
        "\n",
        "\n",
        "def custom_standardization(input_string):\n",
        "    lowercase = tf.strings.lower(input_string)\n",
        "    return tf.strings.regex_replace(lowercase, \"[%s]\" % re.escape(strip_chars), \"\")\n",
        "\n",
        "\n",
        "source_vectorization = TextVectorization(\n",
        "    max_tokens=vocab_size, output_mode=\"int\", output_sequence_length=sequence_length,\n",
        "    #split=custom_split_fn\n",
        "    split=char_split                              # from above\n",
        "\n",
        ")\n",
        "target_vectorization = TextVectorization(\n",
        "    max_tokens=vocab_size,\n",
        "    output_mode=\"int\",\n",
        "    output_sequence_length=sequence_length + 1,\n",
        "    standardize=custom_standardization,\n",
        "    #split=custom_split_fn\n",
        "    split=char_split                              # from above\n",
        ")\n",
        "\n",
        "source_target_texts = [pair[0] for pair in train_pairs]\n",
        "target_target_texts = [pair[1] for pair in train_pairs]\n",
        "source_vectorization.adapt(source_target_texts)\n",
        "target_vectorization.adapt(target_target_texts)"
      ],
      "execution_count": null,
      "outputs": []
    },
    {
      "cell_type": "code",
      "metadata": {
        "colab": {
          "base_uri": "https://localhost:8080/"
        },
        "id": "1g05E1EhGrir",
        "outputId": "9051531a-4e2f-448c-8b92-074707777a05"
      },
      "source": [
        "for i in range(5):\n",
        "    print(source_target_texts[i] + '\\t' + target_target_texts[i])"
      ],
      "execution_count": null,
      "outputs": [
        {
          "output_type": "stream",
          "name": "stdout",
          "text": [
            "وادي\t[Wādī]\n",
            "خربة\t[Khirbat]\n",
            "قرية\t[Qaryah]\n",
            "مدرسة\t[Madrasah]\n",
            "وادي\t[Wādī]\n"
          ]
        }
      ]
    },
    {
      "cell_type": "code",
      "metadata": {
        "colab": {
          "base_uri": "https://localhost:8080/"
        },
        "id": "Ic53QOgxzknv",
        "outputId": "e10d751d-c7a3-488f-988c-0331d7b78d73"
      },
      "source": [
        "source_vocab = source_vectorization.get_vocabulary()\n",
        "len(source_vocab)"
      ],
      "execution_count": null,
      "outputs": [
        {
          "output_type": "execute_result",
          "data": {
            "text/plain": [
              "77"
            ]
          },
          "metadata": {},
          "execution_count": 40
        }
      ]
    },
    {
      "cell_type": "code",
      "metadata": {
        "colab": {
          "base_uri": "https://localhost:8080/"
        },
        "id": "cI4jROSIzxuw",
        "outputId": "0c60d74c-5456-4e79-e4c5-d4846878beac"
      },
      "source": [
        "count = 0\n",
        "\n",
        "for i in range(len(source_vocab)):\n",
        "  if count >= 10:\n",
        "    count = 0\n",
        "    print('\\n')\n",
        "    continue\n",
        "  print(source_vocab[i],end='')\n",
        "  print('\\t', end='')\n",
        "  count+=1"
      ],
      "execution_count": null,
      "outputs": [
        {
          "output_type": "stream",
          "name": "stdout",
          "text": [
            "\t[UNK]\tا\tل\t \tي\tر\tة\tب\tو\t\n",
            "\n",
            "ن\tد\tع\tح\tس\tت\tج\tق\tش\tك\t\n",
            "\n",
            "ف\tز\tص\tأ\tط\tه\tض\tغ\tئ\tظ\t\n",
            "\n",
            "ث\tذ\tء\tآ\tّ\tإ\tـ\tנ\tچ\tח\t\n",
            "\n",
            "ל\tר\tי\tן\tו\tג\tמ\tב\t’\tש\t\n",
            "\n",
            "ע\tס\t١\tכ\tד\tڤ\t٧\tק\tך\t٦\t\n",
            "\n",
            "پ\t٤\t٢\tُ\tَ\tפ\tה\t٩\t٨\tِ\t\n",
            "\n"
          ]
        }
      ]
    },
    {
      "cell_type": "code",
      "source": [
        "target_vocab = target_vectorization.get_vocabulary()\n",
        "len(target_vocab)"
      ],
      "metadata": {
        "colab": {
          "base_uri": "https://localhost:8080/"
        },
        "id": "lOUlW1GevRPI",
        "outputId": "3f07cc23-b62f-4172-b5a2-d3c37fa4a6ae"
      },
      "execution_count": null,
      "outputs": [
        {
          "output_type": "execute_result",
          "data": {
            "text/plain": [
              "59"
            ]
          },
          "metadata": {},
          "execution_count": 61
        }
      ]
    },
    {
      "cell_type": "code",
      "metadata": {
        "colab": {
          "base_uri": "https://localhost:8080/"
        },
        "outputId": "8f90e631-df49-47ff-8305-a34cef844db8",
        "id": "IrQXdt4nvazG"
      },
      "source": [
        "print(target_vocab)"
      ],
      "execution_count": null,
      "outputs": [
        {
          "output_type": "stream",
          "name": "stdout",
          "text": [
            "['', '[UNK]', 'a', ' ', ']', '[', 'h', 'l', 'r', 'ā', 'ī', 'b', 's', 'm', 'y', 't', 'n', 'd', 'i', 'u', 'w', 'k', '‘', 'j', 'ū', 'q', 'z', 'ḩ', 'f', 'Ḩ', 'ş', 'ţ', 'Ş', 'ḑ', 'g', '’', 'Ţ', '̧', 'á', 'Ā', 'Ḑ', 'Ū', 'Ī', 'c', 'ẖ', 'e', 'ṭ', 'v', 'ṣ', 'o', '·', 'p', 'Ṭ', 'Ṣ', 'ḏ', 'Ḏ', 'ḍ', '̱', 'ı']\n"
          ]
        }
      ]
    },
    {
      "cell_type": "code",
      "source": [
        "count = 0\n",
        "\n",
        "for i in range(len(target_vocab)):\n",
        "  if count >= 10:\n",
        "    count = 0\n",
        "    print('\\n')\n",
        "    continue\n",
        "  print(target_vocab[i],end='')\n",
        "  print('\\t', end='')\n",
        "  count+=1"
      ],
      "metadata": {
        "colab": {
          "base_uri": "https://localhost:8080/"
        },
        "id": "GD-BDDnKGSOM",
        "outputId": "5e429379-946a-4d9b-d8e5-86fc3b9ae3d9"
      },
      "execution_count": null,
      "outputs": [
        {
          "output_type": "stream",
          "name": "stdout",
          "text": [
            "\t[UNK]\ta\t \t]\t[\th\tl\tr\tā\t\n",
            "\n",
            "b\ts\tm\ty\tt\tn\td\ti\tu\tw\t\n",
            "\n",
            "‘\tj\tū\tq\tz\tḩ\tf\tḨ\tş\tţ\t\n",
            "\n",
            "ḑ\tg\t’\tŢ\ţ\tá\tĀ\tḐ\tŪ\tĪ\t\n",
            "\n",
            "ẖ\te\tṭ\tv\tṣ\to\t·\tp\tṬ\tṢ\t\n",
            "\n",
            "Ḏ\tḍ\ṯ\tı\t"
          ]
        }
      ]
    },
    {
      "cell_type": "code",
      "metadata": {
        "id": "epimPBqc8OGT"
      },
      "source": [
        "def format_dataset(source, target):\n",
        "    source = source_vectorization(source)\n",
        "    target = target_vectorization(target)\n",
        "    return ({\"encoder_inputs\": source, \"decoder_inputs\": target[:, :-1],}, target[:, 1:])\n",
        "\n",
        "\n",
        "def make_dataset(pairs):\n",
        "    source_texts, target_texts = zip(*pairs)\n",
        "    source_texts = list(source_texts)\n",
        "    target_texts = list(target_texts)\n",
        "    dataset = tf.data.Dataset.from_tensor_slices((source_texts, target_texts))\n",
        "    dataset = dataset.batch(batch_size)\n",
        "    dataset = dataset.map(format_dataset)\n",
        "    return dataset.shuffle(2048).prefetch(16).cache()\n",
        "\n",
        "\n",
        "train_ds = make_dataset(train_pairs)\n",
        "val_ds = make_dataset(val_pairs)\n",
        "test_ds = make_dataset(test_pairs)"
      ],
      "execution_count": null,
      "outputs": []
    },
    {
      "cell_type": "code",
      "metadata": {
        "id": "UxgH4xq18OGU",
        "colab": {
          "base_uri": "https://localhost:8080/"
        },
        "outputId": "cc0f72db-288d-4875-a748-d422fad41b3f"
      },
      "source": [
        "for inputs, targets in train_ds.take(1):\n",
        "    print(f'inputs[\"encoder_inputs\"].shape: {inputs[\"encoder_inputs\"].shape}')\n",
        "    print(f'inputs[\"decoder_inputs\"].shape: {inputs[\"decoder_inputs\"].shape}')\n",
        "    print(f\"targets.shape: {targets.shape}\")"
      ],
      "execution_count": null,
      "outputs": [
        {
          "output_type": "stream",
          "name": "stdout",
          "text": [
            "inputs[\"encoder_inputs\"].shape: (64, 128)\n",
            "inputs[\"decoder_inputs\"].shape: (64, 128)\n",
            "targets.shape: (64, 128)\n"
          ]
        }
      ]
    },
    {
      "cell_type": "code",
      "metadata": {
        "id": "xXlGRZtg8OGU"
      },
      "source": [
        "class TransformerEncoder(layers.Layer):\n",
        "    def __init__(self, embed_dim, dense_dim, num_heads, **kwargs):\n",
        "        super(TransformerEncoder, self).__init__(**kwargs)\n",
        "        self.embed_dim = embed_dim\n",
        "        self.dense_dim = dense_dim\n",
        "        self.num_heads = num_heads\n",
        "        self.attention = layers.MultiHeadAttention(\n",
        "            num_heads=num_heads, key_dim=embed_dim\n",
        "        )\n",
        "        self.dense_proj = keras.Sequential(\n",
        "            [layers.Dense(dense_dim, activation=\"relu\"), layers.Dense(embed_dim),]\n",
        "        )\n",
        "        self.layernorm_1 = layers.LayerNormalization()\n",
        "        self.layernorm_2 = layers.LayerNormalization()\n",
        "        self.supports_masking = True\n",
        "\n",
        "    def call(self, inputs, mask=None):\n",
        "        if mask is not None:\n",
        "            padding_mask = tf.cast(mask[:, tf.newaxis, tf.newaxis, :], dtype=\"int32\")\n",
        "        attention_output = self.attention(\n",
        "            query=inputs, value=inputs, key=inputs, attention_mask=padding_mask\n",
        "        )\n",
        "        proj_input = self.layernorm_1(inputs + attention_output)\n",
        "        proj_output = self.dense_proj(proj_input)\n",
        "        return self.layernorm_2(proj_input + proj_output)\n",
        "\n",
        "# CHANGED\n",
        "    def get_config(self):\n",
        "        config = super().get_config()\n",
        "        config.update({\n",
        "            \"embed_dim\": self.embed_dim,\n",
        "            \"num_heads\": self.num_heads,\n",
        "            \"dense_dim\": self.dense_dim,\n",
        "        })\n",
        "        return config\n",
        "# end CHANGED\n",
        "\n",
        "class PositionalEmbedding(layers.Layer):\n",
        "    def __init__(self, sequence_length, vocab_size, embed_dim, **kwargs):\n",
        "        super(PositionalEmbedding, self).__init__(**kwargs)\n",
        "        self.token_embeddings = layers.Embedding(\n",
        "            input_dim=vocab_size, output_dim=embed_dim\n",
        "        )\n",
        "        self.position_embeddings = layers.Embedding(\n",
        "            input_dim=sequence_length, output_dim=embed_dim\n",
        "        )\n",
        "        self.sequence_length = sequence_length\n",
        "        self.vocab_size = vocab_size\n",
        "        self.embed_dim = embed_dim\n",
        "\n",
        "    def call(self, inputs):\n",
        "        length = tf.shape(inputs)[-1]\n",
        "        positions = tf.range(start=0, limit=length, delta=1)\n",
        "        embedded_tokens = self.token_embeddings(inputs)\n",
        "        embedded_positions = self.position_embeddings(positions)\n",
        "        return embedded_tokens + embedded_positions\n",
        "\n",
        "    def compute_mask(self, inputs, mask=None):\n",
        "        return tf.math.not_equal(inputs, 0)\n",
        "# CHANGED\n",
        "    def get_config(self):\n",
        "        config = super().get_config()\n",
        "        config.update({\n",
        "            \"vocab_size\": self.vocab_size,\n",
        "            \"sequence_length\": self.sequence_length,\n",
        "            \"embed_dim\": self.embed_dim,\n",
        "        })\n",
        "        return config\n",
        "# end CHANGED\n",
        "\n",
        "class TransformerDecoder(layers.Layer):\n",
        "    def __init__(self, embed_dim, latent_dim, num_heads, **kwargs):\n",
        "        super(TransformerDecoder, self).__init__(**kwargs)\n",
        "        self.embed_dim = embed_dim\n",
        "        self.latent_dim = latent_dim\n",
        "        self.num_heads = num_heads\n",
        "        self.attention_1 = layers.MultiHeadAttention(\n",
        "            num_heads=num_heads, key_dim=embed_dim\n",
        "        )\n",
        "        self.attention_2 = layers.MultiHeadAttention(\n",
        "            num_heads=num_heads, key_dim=embed_dim\n",
        "        )\n",
        "        self.dense_proj = keras.Sequential(\n",
        "            [layers.Dense(latent_dim, activation=\"relu\"), layers.Dense(embed_dim),]\n",
        "        )\n",
        "        self.layernorm_1 = layers.LayerNormalization()\n",
        "        self.layernorm_2 = layers.LayerNormalization()\n",
        "        self.layernorm_3 = layers.LayerNormalization()\n",
        "        self.supports_masking = True\n",
        "\n",
        "    def call(self, inputs, encoder_outputs, mask=None):\n",
        "        causal_mask = self.get_causal_attention_mask(inputs)\n",
        "        if mask is not None:\n",
        "            padding_mask = tf.cast(mask[:, tf.newaxis, :], dtype=\"int32\")\n",
        "            padding_mask = tf.minimum(padding_mask, causal_mask)\n",
        "\n",
        "        attention_output_1 = self.attention_1(\n",
        "            query=inputs, value=inputs, key=inputs, attention_mask=causal_mask\n",
        "        )\n",
        "        out_1 = self.layernorm_1(inputs + attention_output_1)\n",
        "\n",
        "        attention_output_2 = self.attention_2(\n",
        "            query=out_1,\n",
        "            value=encoder_outputs,\n",
        "            key=encoder_outputs,\n",
        "            attention_mask=padding_mask,\n",
        "        )\n",
        "        out_2 = self.layernorm_2(out_1 + attention_output_2)\n",
        "\n",
        "        proj_output = self.dense_proj(out_2)\n",
        "        return self.layernorm_3(out_2 + proj_output)\n",
        "\n",
        "    def get_causal_attention_mask(self, inputs):\n",
        "        input_shape = tf.shape(inputs)\n",
        "        batch_size, sequence_length = input_shape[0], input_shape[1]\n",
        "        i = tf.range(sequence_length)[:, tf.newaxis]\n",
        "        j = tf.range(sequence_length)\n",
        "        mask = tf.cast(i >= j, dtype=\"int32\")\n",
        "        mask = tf.reshape(mask, (1, input_shape[1], input_shape[1]))\n",
        "        mult = tf.concat(\n",
        "            [tf.expand_dims(batch_size, -1), tf.constant([1, 1], dtype=tf.int32)],\n",
        "            axis=0,\n",
        "        )\n",
        "        return tf.tile(mask, mult)\n",
        "# CHANGED\n",
        "    def get_config(self):\n",
        "        config = super().get_config()\n",
        "        config.update({\n",
        "            \"embed_dim\": self.embed_dim,\n",
        "            \"num_heads\": self.num_heads,\n",
        "            \"latent_dim\": self.latent_dim,\n",
        "        })\n",
        "        return config\n",
        "# end CHANGED"
      ],
      "execution_count": null,
      "outputs": []
    },
    {
      "cell_type": "code",
      "metadata": {
        "id": "BmoJNgFd8OGV"
      },
      "source": [
        "embed_dim = 256\n",
        "latent_dim = 2048\n",
        "num_heads = 8\n",
        "\n",
        "encoder_inputs = keras.Input(shape=(None,), dtype=\"int64\", name=\"encoder_inputs\")\n",
        "x = PositionalEmbedding(sequence_length, vocab_size, embed_dim)(encoder_inputs)\n",
        "encoder_outputs = TransformerEncoder(embed_dim, latent_dim, num_heads)(x)\n",
        "encoder = keras.Model(encoder_inputs, encoder_outputs)\n",
        "\n",
        "decoder_inputs = keras.Input(shape=(None,), dtype=\"int64\", name=\"decoder_inputs\")\n",
        "encoded_seq_inputs = keras.Input(shape=(None, embed_dim), name=\"decoder_state_inputs\")\n",
        "x = PositionalEmbedding(sequence_length, vocab_size, embed_dim)(decoder_inputs)\n",
        "x = TransformerDecoder(embed_dim, latent_dim, num_heads)(x, encoded_seq_inputs)\n",
        "x = layers.Dropout(0.5)(x)\n",
        "decoder_outputs = layers.Dense(vocab_size, activation=\"softmax\")(x)\n",
        "decoder = keras.Model([decoder_inputs, encoded_seq_inputs], decoder_outputs)\n",
        "\n",
        "decoder_outputs = decoder([decoder_inputs, encoder_outputs])\n",
        "transformer_geonames = keras.Model(\n",
        "    [encoder_inputs, decoder_inputs], decoder_outputs, name=\"transformer\"\n",
        ")"
      ],
      "execution_count": null,
      "outputs": []
    },
    {
      "cell_type": "code",
      "metadata": {
        "colab": {
          "base_uri": "https://localhost:8080/"
        },
        "id": "IB9C8-uJpO74",
        "outputId": "a33daaf5-8e88-463f-af61-8753b9084c7b"
      },
      "source": [
        "transformer_geonames = keras.models.load_model(\n",
        "    \"transformer_geonames.keras\",\n",
        "    custom_objects={\"TransformerEncoder\": TransformerEncoder,\n",
        "                    \"PositionalEmbedding\": PositionalEmbedding,\n",
        "                    \"TransformerDecoder\": TransformerDecoder}) \n",
        "print(f\"Test acc: {transformer_geonames.evaluate(test_ds)[1]:.3f}\")"
      ],
      "execution_count": null,
      "outputs": [
        {
          "output_type": "stream",
          "name": "stdout",
          "text": [
            "58/58 [==============================] - 13s 162ms/step - loss: 0.0212 - accuracy: 0.9526\n",
            "Test acc: 0.953\n"
          ]
        }
      ]
    },
    {
      "cell_type": "code",
      "metadata": {
        "id": "jMrJ-h9W8OGW"
      },
      "source": [
        "target_vocab = target_vectorization.get_vocabulary()\n",
        "target_index_lookup = dict(zip(range(len(target_vocab)), target_vocab))\n",
        "max_decoded_sentence_length = 128 # should be longer than longest sentence which is 49 characters, from Transliteration_dataset_exploration.ipynb\n",
        "\n",
        "\n",
        "def decode_sequence(input_sentence):\n",
        "    tokenized_input_sentence = source_vectorization([input_sentence])\n",
        "    decoded_sentence = \"[\"\n",
        "    for i in range(max_decoded_sentence_length):\n",
        "        tokenized_target_sentence = target_vectorization([decoded_sentence])[:, :-1]\n",
        "        predictions = transformer_geonames([tokenized_input_sentence, tokenized_target_sentence])\n",
        "\n",
        "        sampled_token_index = np.argmax(predictions[0, i, :])\n",
        "        sampled_token = target_index_lookup[sampled_token_index]\n",
        "        decoded_sentence += \"\" + sampled_token\n",
        "\n",
        "        if sampled_token == \"]\":\n",
        "            break\n",
        "    return decoded_sentence\n",
        "\n",
        "\n",
        "test_source_texts = [pair[0] for pair in test_pairs]\n",
        "test_target_texts = [pair[1] for pair in test_pairs]\n",
        "\n",
        "transliterated_test_pairs = []\n",
        "\n",
        "for _ in range(100):\n",
        "    #input_sentence = random.choice(test_source_texts)\n",
        "    input_sentence = (test_source_texts[_])\n",
        "    translated = decode_sequence(test_source_texts[_])\n",
        "\n",
        "\n",
        "    #line_print = '{:>30}  {:>30}  {:>30}'.format(input_sentence, translated, test_target_texts[_])\n",
        "    #print(line_print)\n",
        "    \n",
        "    transliterated_test_pairs.append(translated)"
      ],
      "execution_count": null,
      "outputs": []
    },
    {
      "cell_type": "code",
      "source": [
        "index = int(input('Sample index: '))\n",
        "src_indx = 0\n",
        "tar_indx = 1\n",
        "\n",
        "source_example = test_pairs[index][src_indx]\n",
        "target_example = test_pairs[index][tar_indx]\n",
        "romanized_example = decode_sequence(test_pairs[index][src_indx])\n",
        "\n",
        "print('Source example: ',source_example, sep = '\\t')\n",
        "print('Target example: ',target_example, sep = '\\t')\n",
        "print('Romanized: ',romanized_example, sep = '\\t\\t')"
      ],
      "metadata": {
        "colab": {
          "base_uri": "https://localhost:8080/"
        },
        "id": "kpi-xr5JKZw-",
        "outputId": "cfa97846-04f2-43e1-fad7-bf765bdb362c"
      },
      "execution_count": null,
      "outputs": [
        {
          "output_type": "stream",
          "name": "stdout",
          "text": [
            "Sample index: 9\n",
            "Source example: \tطراد\n",
            "Target example: \t[Ţirād]\n",
            "Romanized: \t\t[Ţirād]\n"
          ]
        }
      ]
    },
    {
      "cell_type": "markdown",
      "source": [
        "## transliterated_test_pairs contains predictions from test_pairs\n",
        "#### use to combin with test_pairs for metrics"
      ],
      "metadata": {
        "id": "H6RdDdRWgNYp"
      }
    },
    {
      "cell_type": "code",
      "source": [
        "for i in range(len(transliterated_test_pairs)):\n",
        "  print(test_source_texts[i], transliterated_test_pairs[i], test_target_texts[i])"
      ],
      "metadata": {
        "colab": {
          "base_uri": "https://localhost:8080/"
        },
        "id": "npNyiiaUozOT",
        "outputId": "9587e745-4c4d-4a0b-f634-398cdc373378"
      },
      "execution_count": null,
      "outputs": [
        {
          "output_type": "stream",
          "name": "stdout",
          "text": [
            "تل شريع [tall sharī‘] [Tall Sharī‘]\n",
            "وادي الشيخ بارخ [wādī ash shaykh bārikh] [Wādī ash Shaykh Bārikh]\n",
            "وادي بريبج [wādī barībij] [Wādī Buraybij]\n",
            "خربة عين سلوغي [khirbat ‘ayn sallūghī] [Khirbat ‘Ayn Sallūghī]\n",
            "ذراع قياش [dhirā‘ qayyāsh] [Dhirā‘ Qiyāsh]\n",
            "وادي الأرض الشمالي [wādī al arḑ ash shamālī] [Wādī al Arḑ ash Shamālī]\n",
            "الخويمات [al khuwaymāt] [Al Khuwaymāt]\n",
            "ال غانم إبن حسين [Āl ghān mib nuḩsaban] [Āl Ghānim Ibn Ḩusayn]\n",
            "طلاع الحصى [Ţallā‘ al Ḩaşá] [Ţallā‘ al Ḩaşá]\n",
            "طراد [Ţirād] [Ţirād]\n",
            "وحدة عزمان [waḩdat ‘azmān] [Waḩdat ‘Uzmān]\n",
            "أراضي القطعانية [arāḑī al quţ‘ānīyah] [Arāḑī al Qaţ‘ānīyah]\n",
            "قارورة [qārūrah] [Qārūrah]\n",
            "قارة [qārah] [Qārah]\n",
            "خربة قرن تل [khirbat qarn tall] [Khirbat Qarn Tall]\n",
            "عنجوج [‘anjūj] [‘Unjūj]\n",
            "الوحدة الصحية بني جعفر [al waḩdah aş Şiḩḩīyah banī ja‘far] [Al Waḩdah aş Şiḩḩīyah Banī Ja‘far]\n",
            "ال جعبل [Āl ju‘bul] [Āl Ja‘bal]\n",
            "المجلية [al majallīyah] [Al Majallīyah]\n",
            "الصلحاف [aş Şalḩāf] [Aş Şulḩāf]\n",
            "تل ديباك [tall dībāk] [Tall Dībāk]\n",
            "رهوان [rahwān] [Rahwān]\n",
            "منطر العابد [munţar al ‘Ābid] [Munţar al ‘Ābid]\n",
            "ال محسن [Āl maḩsan] [Āl Muḩsin]\n",
            "المركوزة [al markūzah] [Al Markūzah]\n",
            "بيت دهمان [bayt dahmān] [Bayt Dahmān]\n",
            "جردي [jardī] [Jardī]\n",
            "الأجيحار [al ajīḩār] [Al Ujayḩār]\n",
            "سد القبلي [sadd al qiblī] [Sadd al Qiblī]\n",
            "وادي خضير [wādī khuḑayr] [Wādī Khaḑīr]\n",
            "فري [farrī] [Farī]\n",
            "وضيحي [waḑīḩī] [Wuḑayḩī]\n",
            "كفرصغير [kafr Şaghīr] [Kafr Şaghīr]\n",
            "وادي الجيسية [wādī al jaysīyah] [Wādī al Jaysīyah]\n",
            "بنجارو [banjārū] [Binjārū]\n",
            "غزالة غربية [ghazālat gharbīyah] [Ghazālah Gharbīyah]\n",
            "العدلة [al ‘adallah] [Al ‘Adilah]\n",
            "عقم الوعـر [‘aqm al wa‘ar] [‘Aqim al Wa‘ir]\n",
            "جامع الشيخ يعقوب [jāmi‘ ash shaykh ya‘qūb] [Jāmi‘ ash Shaykh Ya‘qūb]\n",
            "أرض الزريقيات [arḑ az zurayqīyāt] [Arḑ az Zurayqīyāt]\n",
            "الباطنة [al bāţinah] [Al Bāţinah]\n",
            "الدار البيضاء [ad dār al bayḑā’] [Ad Dār al Bayḑā’]\n",
            "ظهرة زريق [z̧ahrat zarīq] [Z̧ahrat Zurayq]\n",
            "تل جرنية [tall jirnīyah] [Tall Jarnīyah]\n",
            "ظهرة خراعة [z̧ahrat kharā‘ah] [Z̧ahrat Khirā‘ah]\n",
            "شمال سكة القطار [shamāl sikkat al qaţār] [Shamāl Sikkat al Qiţār]\n",
            "غزلات [ghazlāt] [Ghazlāt]\n",
            "السميرات [as sumayrāt] [As Sumayrāt]\n",
            "تل الغرفي [tall al gharfī] [Tall al Ghurfī]\n",
            "المدينة السكنية [al madīnah as saknīyah] [Al Madīnah as Sakanīyah]\n",
            "خريتا [khuraytā] [Khuraytā]\n",
            "حرنبوش [Ḩarnabūsh] [Haranbūsh]\n",
            "جبل براش [jabal barāsh] [Jabal Barāsh]\n",
            "الوحدة الصحية اللفلق [al waḩdah aş Şiḩḩīyah al laflaq] [Al Waḩdah aş Şiḩḩīyah al Laflaq]\n",
            "الشوحط [ash shawḩaţ] [Ash Shawḩiţ]\n",
            "غارب الدرب [ghārib ad durb] [Ghārib ad Darb]\n",
            "المصارفة [al muşārifah] [Al Misārifah]\n",
            "مطخ أبو عبدة [maţakh abū ‘abdah] [Maţakh Abū ‘Abdah]\n",
            "ناحية ببيلا [nāḩiyat babīlā] [Nāḩiyat Babīlā]\n",
            "الرقرواش [ar raqrawāsh] [Ar Riqrawāsh]\n",
            "البيدبن [al baydib] [Al Baydban]\n",
            "ظهر الربيعة [z̧ahr ar rabī‘ah] [Z̧ahr ar Rabī‘ah]\n",
            "المعروف [al ma‘rūf] [Al Ma‘rūf]\n",
            "المركز الصحي ثمود [al markaz aş Şiḩḩīy thammūd] [Al Markaz aş Şiḩḩīy Thamūd]\n",
            "درب النقيب [darb an naqīb] [Darb an Nuqayb]\n",
            "بريطانيا [burayţānīyā] [Birīţāniyā]\n",
            "منطقة النبك [minţaqat an nabk] [Minţaqat an Nabk]\n",
            "وحدة المنجارة [waḩdat al manjārah] [Waḩdat al Manjārah]\n",
            "تلة الوادي الاحمر [tallat al wādī al aḩmar] [Tallat al Wādī al Aḩmar]\n",
            "البرانص [al barānuş] [Al Brānaş]\n",
            "ذاي الحمرات [dhāy al Ḩamrāt] [Dhāy Ḩumarāt]\n",
            "حمة الخيل [Ḩamāt al khayl] [Ḩamat al Khayl]\n",
            "وادي المراوح [wādī al marāwiḩ] [Wādī al Marāwiḩ]\n",
            "برك الحمر [barak al Ḩumar] [Birak al Ḩumr]\n",
            "الوجد [al wajd] [Al Wajd]\n",
            "الصابة السفلى [aş Şābat as safalá] [Aş Şābah as Suflá]\n",
            "حي الإتحاد [Ḩayy al ittād] [Ḩayy al Ittiḩād]\n",
            "الوحدة الصحية غيظة اليهيش [al waḩdah aş Şiḩḩīyah ghayz̧al al yash] [Al Waḩdah aş Şiḩḩīyah Ghayz̧at al Yahyash]\n",
            "خربة المشرف [khirbat al mushrif] [Khirbat al Mushrif]\n",
            "تل الصفا [tall aş Şafā] [Tall aş Şafā]\n",
            "الوحدة الصحية السريد [al waḩdah aş Şiḩḩīyah as sarīd] [Al Waḩdah aş Şiḩḩīyah as Sarīd]\n",
            "أرض الكنيسة [arḑ al kunaysah] [Arḑ al Kunaysah]\n",
            "ناحية قورقينا [nāḩiyat qūrqīnīyā] [Nāḩiyat Qūrqīnā]\n",
            "غرة بركة [gharrat barkah] [Gharrat Barkah]\n",
            "تل جبورين [tall jabbūrīn] [Tall Jabbūrīn]\n",
            "الحلحل [al Ḩalḩal] [Al Ḩalḩal]\n",
            "مساكن حي الشهباء الجديدة [masākin Ḩayy ash shahbā’ al jadīyah] [Masākin Ḩayy ash Shahbā’ al Jadīdah]\n",
            "قشوبة [qashwabah] [Qashūbah]\n",
            "باط ابو جريد [bāţ abū jarīd] [Bāţ Abū Jarīd]\n",
            "ذي وين [dhī wīn] [Dhī Wayn]\n",
            "الضحى [aḑ Ḑaḩá] [Aḑ Ḑaḩī]\n",
            "قف العوامر [qafq al ‘awwāmir] [Qaff al ‘Awwāmir]\n",
            "الدينارية [ad dīnārīyah] [Ad Daynārīyah]\n",
            "الخسف ال مروان [al khasf al marwwān] [Al Khasf Āl Marwān]\n",
            "مستوصف المأخذي الأهلى [mustawşaf al mu’aykh al ahlīlī] [Mustawşaf al Ma’khdhī al Ahlī]\n",
            "البيود [al baywad] [Al Biyūd]\n",
            "شعبة سلطان [shi‘bat silţān] [Sha‘bat Sulţān]\n",
            "الحافة [al Ḩāfah] [Al Ḩāfah]\n",
            "قلع الرامي [qal‘ ar rāmī] [Qal‘ ar Rāmī]\n",
            "كحلة [kuḩlah] [Kuḩlah]\n"
          ]
        }
      ]
    },
    {
      "cell_type": "markdown",
      "source": [
        "## add test source, target & predictions to df"
      ],
      "metadata": {
        "id": "JYUIC4jxzDwR"
      }
    },
    {
      "cell_type": "code",
      "source": [
        "df_translit = pd.DataFrame(list(zip(test_source_texts, test_target_texts, transliterated_test_pairs)), columns =['source', 'target', 'romanized'])"
      ],
      "metadata": {
        "id": "u-koBg4WzWhj"
      },
      "execution_count": null,
      "outputs": []
    },
    {
      "cell_type": "code",
      "source": [
        "df_translit.columns"
      ],
      "metadata": {
        "colab": {
          "base_uri": "https://localhost:8080/"
        },
        "id": "aKZzFjUQzsqw",
        "outputId": "916c2e53-8d16-4d97-af67-99c84c633ab3"
      },
      "execution_count": null,
      "outputs": [
        {
          "output_type": "execute_result",
          "data": {
            "text/plain": [
              "Index(['source', 'target', 'romanized'], dtype='object')"
            ]
          },
          "metadata": {},
          "execution_count": 97
        }
      ]
    },
    {
      "cell_type": "code",
      "source": [
        "df_translit['romanized']"
      ],
      "metadata": {
        "colab": {
          "base_uri": "https://localhost:8080/"
        },
        "id": "j4_0vmJk0lBD",
        "outputId": "a60e9f74-50f4-4e8d-979b-7dc828fcd4f3"
      },
      "execution_count": null,
      "outputs": [
        {
          "output_type": "execute_result",
          "data": {
            "text/plain": [
              "0                [tall sharī‘]\n",
              "1     [wādī ash shaykh bārikh]\n",
              "2               [wādī barībij]\n",
              "3      [khirbat ‘ayn sallūghī]\n",
              "4             [dhirā‘ qayyāsh]\n",
              "                ...           \n",
              "95                 [al baywad]\n",
              "96            [shi‘bat silţān]\n",
              "97                  [al Ḩāfah]\n",
              "98              [qal‘ ar rāmī]\n",
              "99                    [kuḩlah]\n",
              "Name: romanized, Length: 100, dtype: object"
            ]
          },
          "metadata": {},
          "execution_count": 98
        }
      ]
    },
    {
      "cell_type": "markdown",
      "source": [
        "## nltk function for character error rate"
      ],
      "metadata": {
        "id": "LdRcQ5k83bas"
      }
    },
    {
      "cell_type": "code",
      "source": [
        "import nltk"
      ],
      "metadata": {
        "id": "OTQMNiOE0lD3"
      },
      "execution_count": null,
      "outputs": []
    },
    {
      "cell_type": "code",
      "source": [
        "target_example = df_translit['target'][0]\n",
        "romanized_example = df_translit['romanized'][0]\n",
        "\n",
        "print(target_example)\n",
        "print(romanized_example)\n",
        "\n",
        "nltk.edit_distance(target_example, romanized_example)"
      ],
      "metadata": {
        "colab": {
          "base_uri": "https://localhost:8080/"
        },
        "id": "1Kfi62f90lGX",
        "outputId": "b6685ede-e788-4e4d-e826-2d4322a0af0d"
      },
      "execution_count": null,
      "outputs": [
        {
          "output_type": "stream",
          "name": "stdout",
          "text": [
            "[Tall Sharī‘]\n",
            "[tall sharī‘]\n"
          ]
        },
        {
          "output_type": "execute_result",
          "data": {
            "text/plain": [
              "2"
            ]
          },
          "metadata": {},
          "execution_count": 100
        }
      ]
    },
    {
      "cell_type": "code",
      "source": [
        "# using lower edit distance is 0, not 2\n",
        "\n",
        "print(nltk.edit_distance(target_example.lower(), romanized_example))"
      ],
      "metadata": {
        "colab": {
          "base_uri": "https://localhost:8080/"
        },
        "id": "V2ZRPGWP0lI4",
        "outputId": "4bc5c899-e344-4b03-9b0f-afc3da9e5845"
      },
      "execution_count": null,
      "outputs": [
        {
          "output_type": "stream",
          "name": "stdout",
          "text": [
            "0\n"
          ]
        }
      ]
    },
    {
      "cell_type": "markdown",
      "source": [
        "## install hugginface datasets"
      ],
      "metadata": {
        "id": "PvyjCH066CXR"
      }
    },
    {
      "cell_type": "code",
      "source": [
        "pip install datasets\n"
      ],
      "metadata": {
        "colab": {
          "base_uri": "https://localhost:8080/"
        },
        "id": "xU3T9OPZ5-5r",
        "outputId": "d9022e2a-b99d-410c-cb1c-0c71dd5884e4"
      },
      "execution_count": null,
      "outputs": [
        {
          "output_type": "stream",
          "name": "stdout",
          "text": [
            "Collecting datasets\n",
            "  Downloading datasets-1.18.3-py3-none-any.whl (311 kB)\n",
            "\u001b[?25l\r\u001b[K     |█                               | 10 kB 15.5 MB/s eta 0:00:01\r\u001b[K     |██                              | 20 kB 9.5 MB/s eta 0:00:01\r\u001b[K     |███▏                            | 30 kB 8.1 MB/s eta 0:00:01\r\u001b[K     |████▏                           | 40 kB 7.5 MB/s eta 0:00:01\r\u001b[K     |█████▎                          | 51 kB 5.5 MB/s eta 0:00:01\r\u001b[K     |██████▎                         | 61 kB 5.6 MB/s eta 0:00:01\r\u001b[K     |███████▍                        | 71 kB 5.4 MB/s eta 0:00:01\r\u001b[K     |████████▍                       | 81 kB 6.1 MB/s eta 0:00:01\r\u001b[K     |█████████▌                      | 92 kB 6.0 MB/s eta 0:00:01\r\u001b[K     |██████████▌                     | 102 kB 5.3 MB/s eta 0:00:01\r\u001b[K     |███████████▋                    | 112 kB 5.3 MB/s eta 0:00:01\r\u001b[K     |████████████▋                   | 122 kB 5.3 MB/s eta 0:00:01\r\u001b[K     |█████████████▊                  | 133 kB 5.3 MB/s eta 0:00:01\r\u001b[K     |██████████████▊                 | 143 kB 5.3 MB/s eta 0:00:01\r\u001b[K     |███████████████▊                | 153 kB 5.3 MB/s eta 0:00:01\r\u001b[K     |████████████████▉               | 163 kB 5.3 MB/s eta 0:00:01\r\u001b[K     |█████████████████▉              | 174 kB 5.3 MB/s eta 0:00:01\r\u001b[K     |███████████████████             | 184 kB 5.3 MB/s eta 0:00:01\r\u001b[K     |████████████████████            | 194 kB 5.3 MB/s eta 0:00:01\r\u001b[K     |█████████████████████           | 204 kB 5.3 MB/s eta 0:00:01\r\u001b[K     |██████████████████████          | 215 kB 5.3 MB/s eta 0:00:01\r\u001b[K     |███████████████████████▏        | 225 kB 5.3 MB/s eta 0:00:01\r\u001b[K     |████████████████████████▏       | 235 kB 5.3 MB/s eta 0:00:01\r\u001b[K     |█████████████████████████▎      | 245 kB 5.3 MB/s eta 0:00:01\r\u001b[K     |██████████████████████████▎     | 256 kB 5.3 MB/s eta 0:00:01\r\u001b[K     |███████████████████████████▍    | 266 kB 5.3 MB/s eta 0:00:01\r\u001b[K     |████████████████████████████▍   | 276 kB 5.3 MB/s eta 0:00:01\r\u001b[K     |█████████████████████████████▍  | 286 kB 5.3 MB/s eta 0:00:01\r\u001b[K     |██████████████████████████████▌ | 296 kB 5.3 MB/s eta 0:00:01\r\u001b[K     |███████████████████████████████▌| 307 kB 5.3 MB/s eta 0:00:01\r\u001b[K     |████████████████████████████████| 311 kB 5.3 MB/s \n",
            "\u001b[?25hRequirement already satisfied: packaging in /usr/local/lib/python3.7/dist-packages (from datasets) (21.3)\n",
            "Requirement already satisfied: pyarrow!=4.0.0,>=3.0.0 in /usr/local/lib/python3.7/dist-packages (from datasets) (3.0.0)\n",
            "Requirement already satisfied: tqdm>=4.62.1 in /usr/local/lib/python3.7/dist-packages (from datasets) (4.62.3)\n",
            "Requirement already satisfied: importlib-metadata in /usr/local/lib/python3.7/dist-packages (from datasets) (4.10.1)\n",
            "Requirement already satisfied: requests>=2.19.0 in /usr/local/lib/python3.7/dist-packages (from datasets) (2.23.0)\n",
            "Collecting aiohttp\n",
            "  Downloading aiohttp-3.8.1-cp37-cp37m-manylinux_2_5_x86_64.manylinux1_x86_64.manylinux_2_12_x86_64.manylinux2010_x86_64.whl (1.1 MB)\n",
            "\u001b[K     |████████████████████████████████| 1.1 MB 34.6 MB/s \n",
            "\u001b[?25hRequirement already satisfied: pandas in /usr/local/lib/python3.7/dist-packages (from datasets) (1.3.5)\n",
            "Collecting huggingface-hub<1.0.0,>=0.1.0\n",
            "  Downloading huggingface_hub-0.4.0-py3-none-any.whl (67 kB)\n",
            "\u001b[K     |████████████████████████████████| 67 kB 5.4 MB/s \n",
            "\u001b[?25hRequirement already satisfied: dill in /usr/local/lib/python3.7/dist-packages (from datasets) (0.3.4)\n",
            "Requirement already satisfied: numpy>=1.17 in /usr/local/lib/python3.7/dist-packages (from datasets) (1.19.5)\n",
            "Collecting xxhash\n",
            "  Downloading xxhash-2.0.2-cp37-cp37m-manylinux2010_x86_64.whl (243 kB)\n",
            "\u001b[K     |████████████████████████████████| 243 kB 43.4 MB/s \n",
            "\u001b[?25hCollecting fsspec[http]>=2021.05.0\n",
            "  Downloading fsspec-2022.1.0-py3-none-any.whl (133 kB)\n",
            "\u001b[K     |████████████████████████████████| 133 kB 42.3 MB/s \n",
            "\u001b[?25hRequirement already satisfied: multiprocess in /usr/local/lib/python3.7/dist-packages (from datasets) (0.70.12.2)\n",
            "Requirement already satisfied: filelock in /usr/local/lib/python3.7/dist-packages (from huggingface-hub<1.0.0,>=0.1.0->datasets) (3.4.2)\n",
            "Requirement already satisfied: pyyaml in /usr/local/lib/python3.7/dist-packages (from huggingface-hub<1.0.0,>=0.1.0->datasets) (3.13)\n",
            "Requirement already satisfied: typing-extensions>=3.7.4.3 in /usr/local/lib/python3.7/dist-packages (from huggingface-hub<1.0.0,>=0.1.0->datasets) (3.10.0.2)\n",
            "Requirement already satisfied: pyparsing!=3.0.5,>=2.0.2 in /usr/local/lib/python3.7/dist-packages (from packaging->datasets) (3.0.7)\n",
            "Requirement already satisfied: certifi>=2017.4.17 in /usr/local/lib/python3.7/dist-packages (from requests>=2.19.0->datasets) (2021.10.8)\n",
            "Requirement already satisfied: idna<3,>=2.5 in /usr/local/lib/python3.7/dist-packages (from requests>=2.19.0->datasets) (2.10)\n",
            "Requirement already satisfied: chardet<4,>=3.0.2 in /usr/local/lib/python3.7/dist-packages (from requests>=2.19.0->datasets) (3.0.4)\n",
            "Requirement already satisfied: urllib3!=1.25.0,!=1.25.1,<1.26,>=1.21.1 in /usr/local/lib/python3.7/dist-packages (from requests>=2.19.0->datasets) (1.24.3)\n",
            "Requirement already satisfied: attrs>=17.3.0 in /usr/local/lib/python3.7/dist-packages (from aiohttp->datasets) (21.4.0)\n",
            "Requirement already satisfied: charset-normalizer<3.0,>=2.0 in /usr/local/lib/python3.7/dist-packages (from aiohttp->datasets) (2.0.11)\n",
            "Collecting frozenlist>=1.1.1\n",
            "  Downloading frozenlist-1.3.0-cp37-cp37m-manylinux_2_5_x86_64.manylinux1_x86_64.manylinux_2_17_x86_64.manylinux2014_x86_64.whl (144 kB)\n",
            "\u001b[K     |████████████████████████████████| 144 kB 43.1 MB/s \n",
            "\u001b[?25hCollecting aiosignal>=1.1.2\n",
            "  Downloading aiosignal-1.2.0-py3-none-any.whl (8.2 kB)\n",
            "Collecting multidict<7.0,>=4.5\n",
            "  Downloading multidict-6.0.2-cp37-cp37m-manylinux_2_17_x86_64.manylinux2014_x86_64.whl (94 kB)\n",
            "\u001b[K     |████████████████████████████████| 94 kB 3.0 MB/s \n",
            "\u001b[?25hCollecting asynctest==0.13.0\n",
            "  Downloading asynctest-0.13.0-py3-none-any.whl (26 kB)\n",
            "Collecting async-timeout<5.0,>=4.0.0a3\n",
            "  Downloading async_timeout-4.0.2-py3-none-any.whl (5.8 kB)\n",
            "Collecting yarl<2.0,>=1.0\n",
            "  Downloading yarl-1.7.2-cp37-cp37m-manylinux_2_5_x86_64.manylinux1_x86_64.manylinux_2_12_x86_64.manylinux2010_x86_64.whl (271 kB)\n",
            "\u001b[K     |████████████████████████████████| 271 kB 49.0 MB/s \n",
            "\u001b[?25hRequirement already satisfied: zipp>=0.5 in /usr/local/lib/python3.7/dist-packages (from importlib-metadata->datasets) (3.7.0)\n",
            "Requirement already satisfied: python-dateutil>=2.7.3 in /usr/local/lib/python3.7/dist-packages (from pandas->datasets) (2.8.2)\n",
            "Requirement already satisfied: pytz>=2017.3 in /usr/local/lib/python3.7/dist-packages (from pandas->datasets) (2018.9)\n",
            "Requirement already satisfied: six>=1.5 in /usr/local/lib/python3.7/dist-packages (from python-dateutil>=2.7.3->pandas->datasets) (1.15.0)\n",
            "Installing collected packages: multidict, frozenlist, yarl, asynctest, async-timeout, aiosignal, fsspec, aiohttp, xxhash, huggingface-hub, datasets\n",
            "Successfully installed aiohttp-3.8.1 aiosignal-1.2.0 async-timeout-4.0.2 asynctest-0.13.0 datasets-1.18.3 frozenlist-1.3.0 fsspec-2022.1.0 huggingface-hub-0.4.0 multidict-6.0.2 xxhash-2.0.2 yarl-1.7.2\n"
          ]
        }
      ]
    },
    {
      "cell_type": "code",
      "source": [
        "pip install jiwer jiwer"
      ],
      "metadata": {
        "colab": {
          "base_uri": "https://localhost:8080/"
        },
        "id": "PJ0OXpWS6RKt",
        "outputId": "d19b3f0b-6a67-4b9d-eb96-5da7419bbdba"
      },
      "execution_count": null,
      "outputs": [
        {
          "output_type": "stream",
          "name": "stdout",
          "text": [
            "Collecting jiwer\n",
            "  Downloading jiwer-2.3.0-py3-none-any.whl (15 kB)\n",
            "Collecting python-Levenshtein==0.12.2\n",
            "  Downloading python-Levenshtein-0.12.2.tar.gz (50 kB)\n",
            "\u001b[?25l\r\u001b[K     |██████▌                         | 10 kB 16.8 MB/s eta 0:00:01\r\u001b[K     |█████████████                   | 20 kB 18.3 MB/s eta 0:00:01\r\u001b[K     |███████████████████▌            | 30 kB 13.2 MB/s eta 0:00:01\r\u001b[K     |██████████████████████████      | 40 kB 10.0 MB/s eta 0:00:01\r\u001b[K     |████████████████████████████████| 50 kB 3.1 MB/s \n",
            "\u001b[?25hRequirement already satisfied: setuptools in /usr/local/lib/python3.7/dist-packages (from python-Levenshtein==0.12.2->jiwer) (57.4.0)\n",
            "Building wheels for collected packages: python-Levenshtein\n",
            "  Building wheel for python-Levenshtein (setup.py) ... \u001b[?25l\u001b[?25hdone\n",
            "  Created wheel for python-Levenshtein: filename=python_Levenshtein-0.12.2-cp37-cp37m-linux_x86_64.whl size=149860 sha256=49d95616510b66605df0541ac82415a92b79f588f1cc5d29473d7b90314592c4\n",
            "  Stored in directory: /root/.cache/pip/wheels/05/5f/ca/7c4367734892581bb5ff896f15027a932c551080b2abd3e00d\n",
            "Successfully built python-Levenshtein\n",
            "Installing collected packages: python-Levenshtein, jiwer\n",
            "Successfully installed jiwer-2.3.0 python-Levenshtein-0.12.2\n"
          ]
        }
      ]
    },
    {
      "cell_type": "markdown",
      "source": [
        "## Character error rate"
      ],
      "metadata": {
        "id": "tRpm3T7yOAR7"
      }
    },
    {
      "cell_type": "code",
      "source": [
        "from datasets import load_metric"
      ],
      "metadata": {
        "id": "BP26uGjy6NFQ"
      },
      "execution_count": null,
      "outputs": []
    },
    {
      "cell_type": "code",
      "source": [
        "metric = load_metric(\"cer\")"
      ],
      "metadata": {
        "id": "Wsizboc95uKC",
        "colab": {
          "base_uri": "https://localhost:8080/",
          "height": 49,
          "referenced_widgets": [
            "ebb87928163a4c2e8caa0a6e71db3b37",
            "15a472ef7baa48e5a695a18e81d44de1",
            "98451d4eb9e547f08bf5dd8fddae469d",
            "09740f1a716044fa84c35dc2d55d3376",
            "c27f0cc4599f44eaa1c0b4fc7b09c63e",
            "679f7457ac8644d5962e4f178dd32ec2",
            "7cfeee9d5ef14eb9944fb763cfeef66a",
            "cbace6a1d5034f0190f3006bc197d8dd",
            "9b976945b2684154887bdbf3acefdc52",
            "bac381509c4d4baeaae4e62e278e550c",
            "3240795b9d5d4d8eb78c172721ed3dd4"
          ]
        },
        "outputId": "cd8bda83-afe3-446e-8b9c-2349bba70de2"
      },
      "execution_count": null,
      "outputs": [
        {
          "output_type": "display_data",
          "data": {
            "application/vnd.jupyter.widget-view+json": {
              "model_id": "ebb87928163a4c2e8caa0a6e71db3b37",
              "version_minor": 0,
              "version_major": 2
            },
            "text/plain": [
              "Downloading:   0%|          | 0.00/2.16k [00:00<?, ?B/s]"
            ]
          },
          "metadata": {}
        }
      ]
    },
    {
      "cell_type": "markdown",
      "source": [
        "## Both strings are equal"
      ],
      "metadata": {
        "id": "xatxgiD4N6zJ"
      }
    },
    {
      "cell_type": "code",
      "source": [
        "metric._compute(['alex'],['alex'])"
      ],
      "metadata": {
        "colab": {
          "base_uri": "https://localhost:8080/"
        },
        "id": "zH-9j5Lb6FP2",
        "outputId": "fd8abbf4-5e65-4888-aac9-086cd9d44b72"
      },
      "execution_count": null,
      "outputs": [
        {
          "output_type": "execute_result",
          "data": {
            "text/plain": [
              "0.0"
            ]
          },
          "metadata": {},
          "execution_count": 110
        }
      ]
    },
    {
      "cell_type": "markdown",
      "source": [
        "## Substitution"
      ],
      "metadata": {
        "id": "dkOEHdjmN2EM"
      }
    },
    {
      "cell_type": "code",
      "source": [
        "metric._compute(['alex'],['aoex'])"
      ],
      "metadata": {
        "colab": {
          "base_uri": "https://localhost:8080/"
        },
        "outputId": "2a6809ad-b1cc-4c9e-e703-9f619c80599b",
        "id": "VNdB4rsdNq8H"
      },
      "execution_count": null,
      "outputs": [
        {
          "output_type": "execute_result",
          "data": {
            "text/plain": [
              "0.25"
            ]
          },
          "metadata": {},
          "execution_count": 111
        }
      ]
    },
    {
      "cell_type": "markdown",
      "source": [
        "## Insertion"
      ],
      "metadata": {
        "id": "qNsvlNWIN5oo"
      }
    },
    {
      "cell_type": "code",
      "source": [
        "metric._compute(['alex'],['aex'])"
      ],
      "metadata": {
        "colab": {
          "base_uri": "https://localhost:8080/"
        },
        "outputId": "65a32c5a-0c87-4ec9-d3be-d53ba46aebc0",
        "id": "UnQ9fapBNu84"
      },
      "execution_count": null,
      "outputs": [
        {
          "output_type": "execute_result",
          "data": {
            "text/plain": [
              "0.3333333333333333"
            ]
          },
          "metadata": {},
          "execution_count": 114
        }
      ]
    },
    {
      "cell_type": "markdown",
      "source": [
        "## Deletion"
      ],
      "metadata": {
        "id": "s1fvMKmdOYsP"
      }
    },
    {
      "cell_type": "code",
      "source": [
        "metric._compute(['alex'],['al3ex'])"
      ],
      "metadata": {
        "colab": {
          "base_uri": "https://localhost:8080/"
        },
        "id": "SxDiZ_Mw8N-y",
        "outputId": "8a4270cb-5936-4d5a-f704-0c61a447d9fb"
      },
      "execution_count": null,
      "outputs": [
        {
          "output_type": "execute_result",
          "data": {
            "text/plain": [
              "0.2"
            ]
          },
          "metadata": {},
          "execution_count": 116
        }
      ]
    },
    {
      "cell_type": "markdown",
      "source": [
        "## apply lower to target strings"
      ],
      "metadata": {
        "id": "FGmvkvuc4eB0"
      }
    },
    {
      "cell_type": "code",
      "source": [
        "df_translit['target'] = df_translit['target'].apply(str.lower)"
      ],
      "metadata": {
        "id": "EgOkLMD24hLA"
      },
      "execution_count": null,
      "outputs": []
    },
    {
      "cell_type": "markdown",
      "source": [
        "## create list from edit distance mapped function"
      ],
      "metadata": {
        "id": "Gv56nB-o4NQj"
      }
    },
    {
      "cell_type": "code",
      "source": [
        "edit_distance = []\n",
        "\n",
        "for ar, lat in df_translit[['target', 'romanized']].values:\n",
        "  edit_distance.append(nltk.edit_distance(str(ar), str(lat)))\n",
        "\n",
        "df_translit['Edit_dist'] = edit_distance"
      ],
      "metadata": {
        "id": "YjW1KG9N0lN1"
      },
      "execution_count": null,
      "outputs": []
    },
    {
      "cell_type": "code",
      "source": [
        "edit_distance = []\n",
        "\n",
        "for ar, lat in df_translit[['target', 'romanized']].values:\n",
        "  edit_distance.append(metric._compute([str(ar)], [str(lat)]))\n",
        "\n",
        "df_translit['CER'] = edit_distance"
      ],
      "metadata": {
        "id": "N-Q0vy2W7cuA"
      },
      "execution_count": null,
      "outputs": []
    },
    {
      "cell_type": "code",
      "source": [
        "df_translit.sort_values('CER', ascending=False)"
      ],
      "metadata": {
        "colab": {
          "base_uri": "https://localhost:8080/",
          "height": 423
        },
        "id": "X4B-slbV0lQm",
        "outputId": "42f6c518-b73c-4e7f-81b7-f0af75e9d382"
      },
      "execution_count": null,
      "outputs": [
        {
          "output_type": "execute_result",
          "data": {
            "text/html": [
              "\n",
              "  <div id=\"df-eebda4d7-5813-4b46-90ca-ab166e1acbf7\">\n",
              "    <div class=\"colab-df-container\">\n",
              "      <div>\n",
              "<style scoped>\n",
              "    .dataframe tbody tr th:only-of-type {\n",
              "        vertical-align: middle;\n",
              "    }\n",
              "\n",
              "    .dataframe tbody tr th {\n",
              "        vertical-align: top;\n",
              "    }\n",
              "\n",
              "    .dataframe thead th {\n",
              "        text-align: right;\n",
              "    }\n",
              "</style>\n",
              "<table border=\"1\" class=\"dataframe\">\n",
              "  <thead>\n",
              "    <tr style=\"text-align: right;\">\n",
              "      <th></th>\n",
              "      <th>source</th>\n",
              "      <th>target</th>\n",
              "      <th>romanized</th>\n",
              "      <th>Edit_dist</th>\n",
              "      <th>CER</th>\n",
              "    </tr>\n",
              "  </thead>\n",
              "  <tbody>\n",
              "    <tr>\n",
              "      <th>31</th>\n",
              "      <td>وضيحي</td>\n",
              "      <td>[wuḑayḩī]</td>\n",
              "      <td>[waḑīḩī]</td>\n",
              "      <td>3</td>\n",
              "      <td>0.375000</td>\n",
              "    </tr>\n",
              "    <tr>\n",
              "      <th>7</th>\n",
              "      <td>ال غانم إبن حسين</td>\n",
              "      <td>[āl ghānim ibn ḩusayn]</td>\n",
              "      <td>[Āl ghān mib nuḩsaban]</td>\n",
              "      <td>8</td>\n",
              "      <td>0.363636</td>\n",
              "    </tr>\n",
              "    <tr>\n",
              "      <th>70</th>\n",
              "      <td>ذاي الحمرات</td>\n",
              "      <td>[dhāy ḩumarāt]</td>\n",
              "      <td>[dhāy al Ḩamrāt]</td>\n",
              "      <td>5</td>\n",
              "      <td>0.312500</td>\n",
              "    </tr>\n",
              "    <tr>\n",
              "      <th>65</th>\n",
              "      <td>بريطانيا</td>\n",
              "      <td>[birīţāniyā]</td>\n",
              "      <td>[burayţānīyā]</td>\n",
              "      <td>4</td>\n",
              "      <td>0.307692</td>\n",
              "    </tr>\n",
              "    <tr>\n",
              "      <th>95</th>\n",
              "      <td>البيود</td>\n",
              "      <td>[al biyūd]</td>\n",
              "      <td>[al baywad]</td>\n",
              "      <td>3</td>\n",
              "      <td>0.272727</td>\n",
              "    </tr>\n",
              "    <tr>\n",
              "      <th>...</th>\n",
              "      <td>...</td>\n",
              "      <td>...</td>\n",
              "      <td>...</td>\n",
              "      <td>...</td>\n",
              "      <td>...</td>\n",
              "    </tr>\n",
              "    <tr>\n",
              "      <th>58</th>\n",
              "      <td>ناحية ببيلا</td>\n",
              "      <td>[nāḩiyat babīlā]</td>\n",
              "      <td>[nāḩiyat babīlā]</td>\n",
              "      <td>0</td>\n",
              "      <td>0.000000</td>\n",
              "    </tr>\n",
              "    <tr>\n",
              "      <th>61</th>\n",
              "      <td>ظهر الربيعة</td>\n",
              "      <td>[z̧ahr ar rabī‘ah]</td>\n",
              "      <td>[z̧ahr ar rabī‘ah]</td>\n",
              "      <td>0</td>\n",
              "      <td>0.000000</td>\n",
              "    </tr>\n",
              "    <tr>\n",
              "      <th>62</th>\n",
              "      <td>المعروف</td>\n",
              "      <td>[al ma‘rūf]</td>\n",
              "      <td>[al ma‘rūf]</td>\n",
              "      <td>0</td>\n",
              "      <td>0.000000</td>\n",
              "    </tr>\n",
              "    <tr>\n",
              "      <th>66</th>\n",
              "      <td>منطقة النبك</td>\n",
              "      <td>[minţaqat an nabk]</td>\n",
              "      <td>[minţaqat an nabk]</td>\n",
              "      <td>0</td>\n",
              "      <td>0.000000</td>\n",
              "    </tr>\n",
              "    <tr>\n",
              "      <th>99</th>\n",
              "      <td>كحلة</td>\n",
              "      <td>[kuḩlah]</td>\n",
              "      <td>[kuḩlah]</td>\n",
              "      <td>0</td>\n",
              "      <td>0.000000</td>\n",
              "    </tr>\n",
              "  </tbody>\n",
              "</table>\n",
              "<p>100 rows × 5 columns</p>\n",
              "</div>\n",
              "      <button class=\"colab-df-convert\" onclick=\"convertToInteractive('df-eebda4d7-5813-4b46-90ca-ab166e1acbf7')\"\n",
              "              title=\"Convert this dataframe to an interactive table.\"\n",
              "              style=\"display:none;\">\n",
              "        \n",
              "  <svg xmlns=\"http://www.w3.org/2000/svg\" height=\"24px\"viewBox=\"0 0 24 24\"\n",
              "       width=\"24px\">\n",
              "    <path d=\"M0 0h24v24H0V0z\" fill=\"none\"/>\n",
              "    <path d=\"M18.56 5.44l.94 2.06.94-2.06 2.06-.94-2.06-.94-.94-2.06-.94 2.06-2.06.94zm-11 1L8.5 8.5l.94-2.06 2.06-.94-2.06-.94L8.5 2.5l-.94 2.06-2.06.94zm10 10l.94 2.06.94-2.06 2.06-.94-2.06-.94-.94-2.06-.94 2.06-2.06.94z\"/><path d=\"M17.41 7.96l-1.37-1.37c-.4-.4-.92-.59-1.43-.59-.52 0-1.04.2-1.43.59L10.3 9.45l-7.72 7.72c-.78.78-.78 2.05 0 2.83L4 21.41c.39.39.9.59 1.41.59.51 0 1.02-.2 1.41-.59l7.78-7.78 2.81-2.81c.8-.78.8-2.07 0-2.86zM5.41 20L4 18.59l7.72-7.72 1.47 1.35L5.41 20z\"/>\n",
              "  </svg>\n",
              "      </button>\n",
              "      \n",
              "  <style>\n",
              "    .colab-df-container {\n",
              "      display:flex;\n",
              "      flex-wrap:wrap;\n",
              "      gap: 12px;\n",
              "    }\n",
              "\n",
              "    .colab-df-convert {\n",
              "      background-color: #E8F0FE;\n",
              "      border: none;\n",
              "      border-radius: 50%;\n",
              "      cursor: pointer;\n",
              "      display: none;\n",
              "      fill: #1967D2;\n",
              "      height: 32px;\n",
              "      padding: 0 0 0 0;\n",
              "      width: 32px;\n",
              "    }\n",
              "\n",
              "    .colab-df-convert:hover {\n",
              "      background-color: #E2EBFA;\n",
              "      box-shadow: 0px 1px 2px rgba(60, 64, 67, 0.3), 0px 1px 3px 1px rgba(60, 64, 67, 0.15);\n",
              "      fill: #174EA6;\n",
              "    }\n",
              "\n",
              "    [theme=dark] .colab-df-convert {\n",
              "      background-color: #3B4455;\n",
              "      fill: #D2E3FC;\n",
              "    }\n",
              "\n",
              "    [theme=dark] .colab-df-convert:hover {\n",
              "      background-color: #434B5C;\n",
              "      box-shadow: 0px 1px 3px 1px rgba(0, 0, 0, 0.15);\n",
              "      filter: drop-shadow(0px 1px 2px rgba(0, 0, 0, 0.3));\n",
              "      fill: #FFFFFF;\n",
              "    }\n",
              "  </style>\n",
              "\n",
              "      <script>\n",
              "        const buttonEl =\n",
              "          document.querySelector('#df-eebda4d7-5813-4b46-90ca-ab166e1acbf7 button.colab-df-convert');\n",
              "        buttonEl.style.display =\n",
              "          google.colab.kernel.accessAllowed ? 'block' : 'none';\n",
              "\n",
              "        async function convertToInteractive(key) {\n",
              "          const element = document.querySelector('#df-eebda4d7-5813-4b46-90ca-ab166e1acbf7');\n",
              "          const dataTable =\n",
              "            await google.colab.kernel.invokeFunction('convertToInteractive',\n",
              "                                                     [key], {});\n",
              "          if (!dataTable) return;\n",
              "\n",
              "          const docLinkHtml = 'Like what you see? Visit the ' +\n",
              "            '<a target=\"_blank\" href=https://colab.research.google.com/notebooks/data_table.ipynb>data table notebook</a>'\n",
              "            + ' to learn more about interactive tables.';\n",
              "          element.innerHTML = '';\n",
              "          dataTable['output_type'] = 'display_data';\n",
              "          await google.colab.output.renderOutput(dataTable, element);\n",
              "          const docLink = document.createElement('div');\n",
              "          docLink.innerHTML = docLinkHtml;\n",
              "          element.appendChild(docLink);\n",
              "        }\n",
              "      </script>\n",
              "    </div>\n",
              "  </div>\n",
              "  "
            ],
            "text/plain": [
              "              source                  target  ... Edit_dist       CER\n",
              "31             وضيحي               [wuḑayḩī]  ...         3  0.375000\n",
              "7   ال غانم إبن حسين  [āl ghānim ibn ḩusayn]  ...         8  0.363636\n",
              "70       ذاي الحمرات          [dhāy ḩumarāt]  ...         5  0.312500\n",
              "65          بريطانيا            [birīţāniyā]  ...         4  0.307692\n",
              "95            البيود              [al biyūd]  ...         3  0.272727\n",
              "..               ...                     ...  ...       ...       ...\n",
              "58       ناحية ببيلا        [nāḩiyat babīlā]  ...         0  0.000000\n",
              "61       ظهر الربيعة      [z̧ahr ar rabī‘ah]  ...         0  0.000000\n",
              "62           المعروف             [al ma‘rūf]  ...         0  0.000000\n",
              "66       منطقة النبك      [minţaqat an nabk]  ...         0  0.000000\n",
              "99              كحلة                [kuḩlah]  ...         0  0.000000\n",
              "\n",
              "[100 rows x 5 columns]"
            ]
          },
          "metadata": {},
          "execution_count": 120
        }
      ]
    },
    {
      "cell_type": "code",
      "source": [
        "df_translit['CER'].describe()"
      ],
      "metadata": {
        "colab": {
          "base_uri": "https://localhost:8080/"
        },
        "id": "55jq_f0Q9AAp",
        "outputId": "974c0eb0-3a07-4d53-8972-515f40644094"
      },
      "execution_count": null,
      "outputs": [
        {
          "output_type": "execute_result",
          "data": {
            "text/plain": [
              "count    100.000000\n",
              "mean       0.088350\n",
              "std        0.100151\n",
              "min        0.000000\n",
              "25%        0.000000\n",
              "50%        0.057190\n",
              "75%        0.142857\n",
              "max        0.375000\n",
              "Name: CER, dtype: float64"
            ]
          },
          "metadata": {},
          "execution_count": 121
        }
      ]
    },
    {
      "cell_type": "code",
      "source": [
        "import matplotlib.pyplot as plt\n",
        "plt.boxplot(df_translit['CER'])"
      ],
      "metadata": {
        "colab": {
          "base_uri": "https://localhost:8080/",
          "height": 404
        },
        "id": "5t52_q5R-olF",
        "outputId": "db2d7b55-bb32-48db-b7f7-b68c7ba0c342"
      },
      "execution_count": null,
      "outputs": [
        {
          "output_type": "execute_result",
          "data": {
            "text/plain": [
              "{'boxes': [<matplotlib.lines.Line2D at 0x7f0a512e23d0>],\n",
              " 'caps': [<matplotlib.lines.Line2D at 0x7f0a512e94d0>,\n",
              "  <matplotlib.lines.Line2D at 0x7f0a512e9a10>],\n",
              " 'fliers': [<matplotlib.lines.Line2D at 0x7f0a512ed510>],\n",
              " 'means': [],\n",
              " 'medians': [<matplotlib.lines.Line2D at 0x7f0a512e9f90>],\n",
              " 'whiskers': [<matplotlib.lines.Line2D at 0x7f0a512e2a10>,\n",
              "  <matplotlib.lines.Line2D at 0x7f0a512e2f50>]}"
            ]
          },
          "metadata": {},
          "execution_count": 122
        },
        {
          "output_type": "display_data",
          "data": {
            "image/png": "[encoded data removed]",
            "text/plain": [
              "<Figure size 432x288 with 1 Axes>"
            ]
          },
          "metadata": {
            "needs_background": "light"
          }
        }
      ]
    },
    {
      "cell_type": "code",
      "source": [
        "max_cer = df_translit['CER'].describe()['max']\n",
        "\n",
        "print('Maximum CER results in lower bound of accuracy at:',str((1- max_cer) * 100) + '%')"
      ],
      "metadata": {
        "colab": {
          "base_uri": "https://localhost:8080/"
        },
        "id": "KcKHXmowOxe8",
        "outputId": "fd7e310e-1c63-4c89-8164-86beac244eb1"
      },
      "execution_count": null,
      "outputs": [
        {
          "output_type": "stream",
          "name": "stdout",
          "text": [
            "Maximum CER results in lower bound of accuracy at: 62.5%\n"
          ]
        }
      ]
    },
    {
      "cell_type": "code",
      "source": [
        "df_translit[df_translit['CER'] == 0.0].count()"
      ],
      "metadata": {
        "colab": {
          "base_uri": "https://localhost:8080/"
        },
        "id": "kh0KuBdO8pSB",
        "outputId": "db9ba4b5-b9bc-41dd-b70c-2110c57f5ae3"
      },
      "execution_count": null,
      "outputs": [
        {
          "output_type": "execute_result",
          "data": {
            "text/plain": [
              "source       40\n",
              "target       40\n",
              "romanized    40\n",
              "Edit_dist    40\n",
              "CER          40\n",
              "dtype: int64"
            ]
          },
          "metadata": {},
          "execution_count": 134
        }
      ]
    },
    {
      "cell_type": "code",
      "source": [
        "df_translit[df_translit['CER'] > 0.0].count()"
      ],
      "metadata": {
        "colab": {
          "base_uri": "https://localhost:8080/"
        },
        "id": "s0GMjhj-87LR",
        "outputId": "f38e365a-cab4-4bc3-e36b-0fdf1911d724"
      },
      "execution_count": null,
      "outputs": [
        {
          "output_type": "execute_result",
          "data": {
            "text/plain": [
              "source       60\n",
              "target       60\n",
              "romanized    60\n",
              "Edit_dist    60\n",
              "CER          60\n",
              "dtype: int64"
            ]
          },
          "metadata": {},
          "execution_count": 129
        }
      ]
    },
    {
      "cell_type": "code",
      "source": [
        "df_translit[df_translit['CER'] > 0.1].count()"
      ],
      "metadata": {
        "colab": {
          "base_uri": "https://localhost:8080/"
        },
        "id": "bNZ9XtTgPYJC",
        "outputId": "785b374e-00c9-4a38-d888-45ab1c258d68"
      },
      "execution_count": null,
      "outputs": [
        {
          "output_type": "execute_result",
          "data": {
            "text/plain": [
              "source       37\n",
              "target       37\n",
              "romanized    37\n",
              "Edit_dist    37\n",
              "CER          37\n",
              "dtype: int64"
            ]
          },
          "metadata": {},
          "execution_count": 131
        }
      ]
    },
    {
      "cell_type": "code",
      "source": [
        "df_translit[df_translit['CER'] > 0.2].count()"
      ],
      "metadata": {
        "colab": {
          "base_uri": "https://localhost:8080/"
        },
        "id": "mtevvtF8PdF8",
        "outputId": "22bf2ac1-8229-4971-ff95-6c1220f19d8b"
      },
      "execution_count": null,
      "outputs": [
        {
          "output_type": "execute_result",
          "data": {
            "text/plain": [
              "source       15\n",
              "target       15\n",
              "romanized    15\n",
              "Edit_dist    15\n",
              "CER          15\n",
              "dtype: int64"
            ]
          },
          "metadata": {},
          "execution_count": 132
        }
      ]
    },
    {
      "cell_type": "code",
      "source": [
        "df_translit[df_translit['CER'] > 0.3].count()"
      ],
      "metadata": {
        "colab": {
          "base_uri": "https://localhost:8080/"
        },
        "id": "9IB7-kCqPfHI",
        "outputId": "b4243218-7d08-4d15-b0a1-3a3270fdcd25"
      },
      "execution_count": null,
      "outputs": [
        {
          "output_type": "execute_result",
          "data": {
            "text/plain": [
              "source       4\n",
              "target       4\n",
              "romanized    4\n",
              "Edit_dist    4\n",
              "CER          4\n",
              "dtype: int64"
            ]
          },
          "metadata": {},
          "execution_count": 133
        }
      ]
    },
    {
      "cell_type": "markdown",
      "source": [
        "## calculate character error rate"
      ],
      "metadata": {
        "id": "Pnp-a5_b5Bnq"
      }
    },
    {
      "cell_type": "code",
      "source": [],
      "metadata": {
        "id": "qziEDN07z00l"
      },
      "execution_count": null,
      "outputs": []
    },
    {
      "cell_type": "code",
      "source": [],
      "metadata": {
        "id": "6wxz83oAz03H"
      },
      "execution_count": null,
      "outputs": []
    },
    {
      "cell_type": "code",
      "source": [
        "# not needed, used to test tfserving\n",
        "\n",
        "tokenized_input_sentence = source_vectorization(['وادي'])\n",
        "\n",
        "\n",
        "decoded_sentence = \"[\"\n",
        "\n",
        "tokenized_target_sentence = target_vectorization([decoded_sentence])[:, :-1]\n",
        "\n",
        "print(tokenized_input_sentence)\n",
        "print(tokenized_target_sentence)"
      ],
      "metadata": {
        "colab": {
          "base_uri": "https://localhost:8080/"
        },
        "id": "5gvUo6vvWs1B",
        "outputId": "78969e40-ed08-4938-dcde-dfd1b4839422"
      },
      "execution_count": null,
      "outputs": [
        {
          "output_type": "stream",
          "name": "stdout",
          "text": [
            "tf.Tensor(\n",
            "[[ 9  2 12  5  0  0  0  0  0  0  0  0  0  0  0  0  0  0  0  0  0  0  0  0\n",
            "   0  0  0  0  0  0  0  0  0  0  0  0  0  0  0  0  0  0  0  0  0  0  0  0\n",
            "   0  0  0  0  0  0  0  0  0  0  0  0  0  0  0  0  0  0  0  0  0  0  0  0\n",
            "   0  0  0  0  0  0  0  0  0  0  0  0  0  0  0  0  0  0  0  0  0  0  0  0\n",
            "   0  0  0  0  0  0  0  0  0  0  0  0  0  0  0  0  0  0  0  0  0  0  0  0\n",
            "   0  0  0  0  0  0  0  0]], shape=(1, 128), dtype=int64)\n",
            "tf.Tensor(\n",
            "[[5 0 0 0 0 0 0 0 0 0 0 0 0 0 0 0 0 0 0 0 0 0 0 0 0 0 0 0 0 0 0 0 0 0 0 0\n",
            "  0 0 0 0 0 0 0 0 0 0 0 0 0 0 0 0 0 0 0 0 0 0 0 0 0 0 0 0 0 0 0 0 0 0 0 0\n",
            "  0 0 0 0 0 0 0 0 0 0 0 0 0 0 0 0 0 0 0 0 0 0 0 0 0 0 0 0 0 0 0 0 0 0 0 0\n",
            "  0 0 0 0 0 0 0 0 0 0 0 0 0 0 0 0 0 0 0 0]], shape=(1, 128), dtype=int64)\n"
          ]
        }
      ]
    },
    {
      "cell_type": "code",
      "source": [
        "input_text = 'بغداد,Baghdād,,,,,'.split(',')\n",
        "#input_text = 'جبل هارون,Jabal Hārūn,,,,,'.split(',')\n",
        "#input_text = 'الشام,Ash Shām,,,,,'.split(',')\n",
        "\n",
        "arabic, latin = input_text[0], input_text[1]\n",
        "\n",
        "print(arabic)\n",
        "print(latin)\n",
        "print(decode_sequence(arabic))"
      ],
      "metadata": {
        "colab": {
          "base_uri": "https://localhost:8080/"
        },
        "id": "_xUFOisvSeCd",
        "outputId": "b065d174-c6dd-4e29-cc96-819a24ccbe96"
      },
      "execution_count": null,
      "outputs": [
        {
          "output_type": "stream",
          "name": "stdout",
          "text": [
            "بغداد\n",
            "Baghdād\n",
            "[baghdād]\n"
          ]
        }
      ]
    }
  ]
}